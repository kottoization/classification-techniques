{
 "cells": [
  {
   "cell_type": "code",
   "execution_count": 65,
   "metadata": {},
   "outputs": [],
   "source": [
    "import pandas as pd\n",
    "import numpy as np\n",
    "import collections\n",
    "import seaborn as sns\n",
    "import matplotlib.pyplot as plt\n",
    "\n",
    "import warnings\n",
    "warnings.filterwarnings(\"ignore\", category=FutureWarning)"
   ]
  },
  {
   "cell_type": "code",
   "execution_count": 2,
   "metadata": {},
   "outputs": [
    {
     "data": {
      "application/javascript": "(function(on) {\nconst e=$( \"<a>Setup failed</a>\" );\nconst ns=\"js_jupyter_suppress_warnings\";\nvar cssrules=$(\"#\"+ns);\nif(!cssrules.length) cssrules = $(\"<style id='\"+ns+\"' type='text/css'>div.output_stderr { } </style>\").appendTo(\"head\");\ne.click(function() {\n    var s='Showing';  \n    cssrules.empty()\n    if(on) {\n        s='Hiding';\n        cssrules.append(\"div.output_stderr, div[data-mime-type*='.stderr'] { display:none; }\");\n    }\n    e.text(s+' warnings (click to toggle)');\n    on=!on;\n}).click();\n$(element).append(e);\n})(true);\n",
      "text/plain": [
       "<IPython.core.display.Javascript object>"
      ]
     },
     "metadata": {},
     "output_type": "display_data"
    }
   ],
   "source": [
    "%%javascript\n",
    "(function(on) {\n",
    "const e=$( \"<a>Setup failed</a>\" );\n",
    "const ns=\"js_jupyter_suppress_warnings\";\n",
    "var cssrules=$(\"#\"+ns);\n",
    "if(!cssrules.length) cssrules = $(\"<style id='\"+ns+\"' type='text/css'>div.output_stderr { } </style>\").appendTo(\"head\");\n",
    "e.click(function() {\n",
    "    var s='Showing';  \n",
    "    cssrules.empty()\n",
    "    if(on) {\n",
    "        s='Hiding';\n",
    "        cssrules.append(\"div.output_stderr, div[data-mime-type*='.stderr'] { display:none; }\");\n",
    "    }\n",
    "    e.text(s+' warnings (click to toggle)');\n",
    "    on=!on;\n",
    "}).click();\n",
    "$(element).append(e);\n",
    "})(true);"
   ]
  },
  {
   "cell_type": "markdown",
   "metadata": {},
   "source": [
    "Projekt przygotowali: \n",
    "\n",
    "Mateusz Mulka i Mateusz Filas"
   ]
  },
  {
   "cell_type": "code",
   "execution_count": 3,
   "metadata": {},
   "outputs": [],
   "source": [
    "df = pd.read_csv('data.csv')"
   ]
  },
  {
   "cell_type": "markdown",
   "metadata": {},
   "source": [
    "Zmienne objaśniające, na których oparto badanie to:\n",
    "- **Gender** - płeć\n",
    "- **Age** - wiek\n",
    "- **Debt** - dług\n",
    "- **Married** - status małżeński\n",
    "- **BankCustomer** - klient banku\n",
    "- **Industry** - miejsce zatrudnienia\n",
    "- **Ethnicity** - pochodzenie etniczne\n",
    "- **YearsEmployed** - lata zatrudnienia\n",
    "- **PriorDefault** - wcześniejsze zadłużenia\n",
    "- **Employed** - status zatrudnienia\n",
    "- **CreditScore** - zdolność kredytowa\n",
    "- **DriversLicence** - posiadanie prawa jazdy\n",
    "- **Citizen** - sposób nabycia obywatelstwa\n",
    "- **ZipCode** - kod pocztowy\n",
    "- **Income** - dochód \n",
    "\n",
    "Zmienną objaśnianą jest **Approved**, czyli zatwierdzenie, zgoda na posiadanie karty kredytowej."
   ]
  },
  {
   "cell_type": "code",
   "execution_count": 4,
   "metadata": {},
   "outputs": [
    {
     "data": {
      "text/plain": [
       "(690, 16)"
      ]
     },
     "execution_count": 4,
     "metadata": {},
     "output_type": "execute_result"
    }
   ],
   "source": [
    "df.shape"
   ]
  },
  {
   "cell_type": "markdown",
   "metadata": {},
   "source": [
    "Zbiór zawiera 690 obserwacji, a zmienne zlokalizowano w 16 kolumnach"
   ]
  },
  {
   "cell_type": "code",
   "execution_count": 5,
   "metadata": {},
   "outputs": [
    {
     "data": {
      "text/plain": [
       "Gender              int64\n",
       "Age               float64\n",
       "Debt              float64\n",
       "Married             int64\n",
       "BankCustomer        int64\n",
       "Industry           object\n",
       "Ethnicity          object\n",
       "YearsEmployed     float64\n",
       "PriorDefault        int64\n",
       "Employed            int64\n",
       "CreditScore         int64\n",
       "DriversLicense      int64\n",
       "Citizen            object\n",
       "ZipCode             int64\n",
       "Income              int64\n",
       "Approved            int64\n",
       "dtype: object"
      ]
     },
     "execution_count": 5,
     "metadata": {},
     "output_type": "execute_result"
    }
   ],
   "source": [
    "df.dtypes"
   ]
  },
  {
   "cell_type": "markdown",
   "metadata": {},
   "source": [
    "Jak widać, w ramce danych występują 3 typy danych. Oprócz zmiennych liczbowych mamy do czynienia z 3 zmiennymi kategorycznymi:\n",
    "- industry\n",
    "- ethnicity\n",
    "- citizen"
   ]
  },
  {
   "cell_type": "code",
   "execution_count": 6,
   "metadata": {},
   "outputs": [
    {
     "data": {
      "text/html": [
       "<div>\n",
       "<style scoped>\n",
       "    .dataframe tbody tr th:only-of-type {\n",
       "        vertical-align: middle;\n",
       "    }\n",
       "\n",
       "    .dataframe tbody tr th {\n",
       "        vertical-align: top;\n",
       "    }\n",
       "\n",
       "    .dataframe thead th {\n",
       "        text-align: right;\n",
       "    }\n",
       "</style>\n",
       "<table border=\"1\" class=\"dataframe\">\n",
       "  <thead>\n",
       "    <tr style=\"text-align: right;\">\n",
       "      <th></th>\n",
       "      <th>Gender</th>\n",
       "      <th>Age</th>\n",
       "      <th>Debt</th>\n",
       "      <th>Married</th>\n",
       "      <th>BankCustomer</th>\n",
       "      <th>Industry</th>\n",
       "      <th>Ethnicity</th>\n",
       "      <th>YearsEmployed</th>\n",
       "      <th>PriorDefault</th>\n",
       "      <th>Employed</th>\n",
       "      <th>CreditScore</th>\n",
       "      <th>DriversLicense</th>\n",
       "      <th>Citizen</th>\n",
       "      <th>ZipCode</th>\n",
       "      <th>Income</th>\n",
       "      <th>Approved</th>\n",
       "    </tr>\n",
       "  </thead>\n",
       "  <tbody>\n",
       "    <tr>\n",
       "      <th>0</th>\n",
       "      <td>1</td>\n",
       "      <td>30.83</td>\n",
       "      <td>0.000</td>\n",
       "      <td>1</td>\n",
       "      <td>1</td>\n",
       "      <td>Industrials</td>\n",
       "      <td>White</td>\n",
       "      <td>1.25</td>\n",
       "      <td>1</td>\n",
       "      <td>1</td>\n",
       "      <td>1</td>\n",
       "      <td>0</td>\n",
       "      <td>ByBirth</td>\n",
       "      <td>202</td>\n",
       "      <td>0</td>\n",
       "      <td>1</td>\n",
       "    </tr>\n",
       "    <tr>\n",
       "      <th>1</th>\n",
       "      <td>0</td>\n",
       "      <td>58.67</td>\n",
       "      <td>4.460</td>\n",
       "      <td>1</td>\n",
       "      <td>1</td>\n",
       "      <td>Materials</td>\n",
       "      <td>Black</td>\n",
       "      <td>3.04</td>\n",
       "      <td>1</td>\n",
       "      <td>1</td>\n",
       "      <td>6</td>\n",
       "      <td>0</td>\n",
       "      <td>ByBirth</td>\n",
       "      <td>43</td>\n",
       "      <td>560</td>\n",
       "      <td>1</td>\n",
       "    </tr>\n",
       "    <tr>\n",
       "      <th>2</th>\n",
       "      <td>0</td>\n",
       "      <td>24.50</td>\n",
       "      <td>0.500</td>\n",
       "      <td>1</td>\n",
       "      <td>1</td>\n",
       "      <td>Materials</td>\n",
       "      <td>Black</td>\n",
       "      <td>1.50</td>\n",
       "      <td>1</td>\n",
       "      <td>0</td>\n",
       "      <td>0</td>\n",
       "      <td>0</td>\n",
       "      <td>ByBirth</td>\n",
       "      <td>280</td>\n",
       "      <td>824</td>\n",
       "      <td>1</td>\n",
       "    </tr>\n",
       "    <tr>\n",
       "      <th>3</th>\n",
       "      <td>1</td>\n",
       "      <td>27.83</td>\n",
       "      <td>1.540</td>\n",
       "      <td>1</td>\n",
       "      <td>1</td>\n",
       "      <td>Industrials</td>\n",
       "      <td>White</td>\n",
       "      <td>3.75</td>\n",
       "      <td>1</td>\n",
       "      <td>1</td>\n",
       "      <td>5</td>\n",
       "      <td>1</td>\n",
       "      <td>ByBirth</td>\n",
       "      <td>100</td>\n",
       "      <td>3</td>\n",
       "      <td>1</td>\n",
       "    </tr>\n",
       "    <tr>\n",
       "      <th>4</th>\n",
       "      <td>1</td>\n",
       "      <td>20.17</td>\n",
       "      <td>5.625</td>\n",
       "      <td>1</td>\n",
       "      <td>1</td>\n",
       "      <td>Industrials</td>\n",
       "      <td>White</td>\n",
       "      <td>1.71</td>\n",
       "      <td>1</td>\n",
       "      <td>0</td>\n",
       "      <td>0</td>\n",
       "      <td>0</td>\n",
       "      <td>ByOtherMeans</td>\n",
       "      <td>120</td>\n",
       "      <td>0</td>\n",
       "      <td>1</td>\n",
       "    </tr>\n",
       "  </tbody>\n",
       "</table>\n",
       "</div>"
      ],
      "text/plain": [
       "   Gender    Age   Debt  Married  BankCustomer     Industry Ethnicity  \\\n",
       "0       1  30.83  0.000        1             1  Industrials     White   \n",
       "1       0  58.67  4.460        1             1    Materials     Black   \n",
       "2       0  24.50  0.500        1             1    Materials     Black   \n",
       "3       1  27.83  1.540        1             1  Industrials     White   \n",
       "4       1  20.17  5.625        1             1  Industrials     White   \n",
       "\n",
       "   YearsEmployed  PriorDefault  Employed  CreditScore  DriversLicense  \\\n",
       "0           1.25             1         1            1               0   \n",
       "1           3.04             1         1            6               0   \n",
       "2           1.50             1         0            0               0   \n",
       "3           3.75             1         1            5               1   \n",
       "4           1.71             1         0            0               0   \n",
       "\n",
       "        Citizen  ZipCode  Income  Approved  \n",
       "0       ByBirth      202       0         1  \n",
       "1       ByBirth       43     560         1  \n",
       "2       ByBirth      280     824         1  \n",
       "3       ByBirth      100       3         1  \n",
       "4  ByOtherMeans      120       0         1  "
      ]
     },
     "execution_count": 6,
     "metadata": {},
     "output_type": "execute_result"
    }
   ],
   "source": [
    "df.head()"
   ]
  },
  {
   "cell_type": "markdown",
   "metadata": {},
   "source": [
    "Przyjżyjmy się bliżej naszym zmiennym kategorycznym.\n",
    "\n",
    "- `Citizen`:"
   ]
  },
  {
   "cell_type": "code",
   "execution_count": 7,
   "metadata": {},
   "outputs": [
    {
     "data": {
      "text/plain": [
       "<AxesSubplot: >"
      ]
     },
     "execution_count": 7,
     "metadata": {},
     "output_type": "execute_result"
    },
    {
     "data": {
      "image/png": "[encoded data removed]",
      "text/plain": [
       "<Figure size 640x480 with 1 Axes>"
      ]
     },
     "metadata": {},
     "output_type": "display_data"
    }
   ],
   "source": [
    "df['Citizen'].hist()"
   ]
  },
  {
   "cell_type": "markdown",
   "metadata": {},
   "source": [
    "Jak widać, jeśli chodzi o zmienną `Citizen` dane nie są zbilansowane, dlatego wartości *ByOtherMeans* oraz *Temporary* zostaną połączone i będą stanowiły wartość $0$, a *ByBirth* zmieni się na $1$. Dzięki temu łatwiej będzie działać na zbiorze danych."
   ]
  },
  {
   "cell_type": "code",
   "execution_count": 8,
   "metadata": {},
   "outputs": [
    {
     "data": {
      "text/html": [
       "<div>\n",
       "<style scoped>\n",
       "    .dataframe tbody tr th:only-of-type {\n",
       "        vertical-align: middle;\n",
       "    }\n",
       "\n",
       "    .dataframe tbody tr th {\n",
       "        vertical-align: top;\n",
       "    }\n",
       "\n",
       "    .dataframe thead th {\n",
       "        text-align: right;\n",
       "    }\n",
       "</style>\n",
       "<table border=\"1\" class=\"dataframe\">\n",
       "  <thead>\n",
       "    <tr style=\"text-align: right;\">\n",
       "      <th></th>\n",
       "      <th>Gender</th>\n",
       "      <th>Age</th>\n",
       "      <th>Debt</th>\n",
       "      <th>Married</th>\n",
       "      <th>BankCustomer</th>\n",
       "      <th>Industry</th>\n",
       "      <th>Ethnicity</th>\n",
       "      <th>YearsEmployed</th>\n",
       "      <th>PriorDefault</th>\n",
       "      <th>Employed</th>\n",
       "      <th>CreditScore</th>\n",
       "      <th>DriversLicense</th>\n",
       "      <th>Citizen</th>\n",
       "      <th>ZipCode</th>\n",
       "      <th>Income</th>\n",
       "      <th>Approved</th>\n",
       "    </tr>\n",
       "  </thead>\n",
       "  <tbody>\n",
       "    <tr>\n",
       "      <th>0</th>\n",
       "      <td>1</td>\n",
       "      <td>30.83</td>\n",
       "      <td>0.000</td>\n",
       "      <td>1</td>\n",
       "      <td>1</td>\n",
       "      <td>Industrials</td>\n",
       "      <td>White</td>\n",
       "      <td>1.25</td>\n",
       "      <td>1</td>\n",
       "      <td>1</td>\n",
       "      <td>1</td>\n",
       "      <td>0</td>\n",
       "      <td>1</td>\n",
       "      <td>202</td>\n",
       "      <td>0</td>\n",
       "      <td>1</td>\n",
       "    </tr>\n",
       "    <tr>\n",
       "      <th>1</th>\n",
       "      <td>0</td>\n",
       "      <td>58.67</td>\n",
       "      <td>4.460</td>\n",
       "      <td>1</td>\n",
       "      <td>1</td>\n",
       "      <td>Materials</td>\n",
       "      <td>Black</td>\n",
       "      <td>3.04</td>\n",
       "      <td>1</td>\n",
       "      <td>1</td>\n",
       "      <td>6</td>\n",
       "      <td>0</td>\n",
       "      <td>1</td>\n",
       "      <td>43</td>\n",
       "      <td>560</td>\n",
       "      <td>1</td>\n",
       "    </tr>\n",
       "    <tr>\n",
       "      <th>2</th>\n",
       "      <td>0</td>\n",
       "      <td>24.50</td>\n",
       "      <td>0.500</td>\n",
       "      <td>1</td>\n",
       "      <td>1</td>\n",
       "      <td>Materials</td>\n",
       "      <td>Black</td>\n",
       "      <td>1.50</td>\n",
       "      <td>1</td>\n",
       "      <td>0</td>\n",
       "      <td>0</td>\n",
       "      <td>0</td>\n",
       "      <td>1</td>\n",
       "      <td>280</td>\n",
       "      <td>824</td>\n",
       "      <td>1</td>\n",
       "    </tr>\n",
       "    <tr>\n",
       "      <th>3</th>\n",
       "      <td>1</td>\n",
       "      <td>27.83</td>\n",
       "      <td>1.540</td>\n",
       "      <td>1</td>\n",
       "      <td>1</td>\n",
       "      <td>Industrials</td>\n",
       "      <td>White</td>\n",
       "      <td>3.75</td>\n",
       "      <td>1</td>\n",
       "      <td>1</td>\n",
       "      <td>5</td>\n",
       "      <td>1</td>\n",
       "      <td>1</td>\n",
       "      <td>100</td>\n",
       "      <td>3</td>\n",
       "      <td>1</td>\n",
       "    </tr>\n",
       "    <tr>\n",
       "      <th>4</th>\n",
       "      <td>1</td>\n",
       "      <td>20.17</td>\n",
       "      <td>5.625</td>\n",
       "      <td>1</td>\n",
       "      <td>1</td>\n",
       "      <td>Industrials</td>\n",
       "      <td>White</td>\n",
       "      <td>1.71</td>\n",
       "      <td>1</td>\n",
       "      <td>0</td>\n",
       "      <td>0</td>\n",
       "      <td>0</td>\n",
       "      <td>0</td>\n",
       "      <td>120</td>\n",
       "      <td>0</td>\n",
       "      <td>1</td>\n",
       "    </tr>\n",
       "  </tbody>\n",
       "</table>\n",
       "</div>"
      ],
      "text/plain": [
       "   Gender    Age   Debt  Married  BankCustomer     Industry Ethnicity  \\\n",
       "0       1  30.83  0.000        1             1  Industrials     White   \n",
       "1       0  58.67  4.460        1             1    Materials     Black   \n",
       "2       0  24.50  0.500        1             1    Materials     Black   \n",
       "3       1  27.83  1.540        1             1  Industrials     White   \n",
       "4       1  20.17  5.625        1             1  Industrials     White   \n",
       "\n",
       "   YearsEmployed  PriorDefault  Employed  CreditScore  DriversLicense  \\\n",
       "0           1.25             1         1            1               0   \n",
       "1           3.04             1         1            6               0   \n",
       "2           1.50             1         0            0               0   \n",
       "3           3.75             1         1            5               1   \n",
       "4           1.71             1         0            0               0   \n",
       "\n",
       "   Citizen  ZipCode  Income  Approved  \n",
       "0        1      202       0         1  \n",
       "1        1       43     560         1  \n",
       "2        1      280     824         1  \n",
       "3        1      100       3         1  \n",
       "4        0      120       0         1  "
      ]
     },
     "execution_count": 8,
     "metadata": {},
     "output_type": "execute_result"
    }
   ],
   "source": [
    "df2 = df.replace(['ByBirth', 'ByOtherMeans', 'Temporary'], [1, 0, 0])\n",
    "df2.head()"
   ]
  },
  {
   "cell_type": "markdown",
   "metadata": {},
   "source": [
    "- `Ethnicity`:"
   ]
  },
  {
   "cell_type": "code",
   "execution_count": 9,
   "metadata": {},
   "outputs": [
    {
     "data": {
      "text/plain": [
       "<AxesSubplot: >"
      ]
     },
     "execution_count": 9,
     "metadata": {},
     "output_type": "execute_result"
    },
    {
     "data": {
      "image/png": "[encoded data removed]",
      "text/plain": [
       "<Figure size 640x480 with 1 Axes>"
      ]
     },
     "metadata": {},
     "output_type": "display_data"
    }
   ],
   "source": [
    "df2['Ethnicity'].hist()"
   ]
  },
  {
   "cell_type": "markdown",
   "metadata": {},
   "source": [
    "W tym przypadku, aby chociaż troche zbilansować dane dotyczące etniczności, wartości 'Asian' oraz 'Latino' zostaną przeniesione do 'Others'."
   ]
  },
  {
   "cell_type": "code",
   "execution_count": 10,
   "metadata": {},
   "outputs": [
    {
     "data": {
      "text/plain": [
       "<AxesSubplot: >"
      ]
     },
     "execution_count": 10,
     "metadata": {},
     "output_type": "execute_result"
    },
    {
     "data": {
      "image/png": "[encoded data removed]",
      "text/plain": [
       "<Figure size 640x480 with 1 Axes>"
      ]
     },
     "metadata": {},
     "output_type": "display_data"
    }
   ],
   "source": [
    "df3 = df2.replace(['Asian', 'Latino'], ['Other', 'Other'])\n",
    "df3['Ethnicity'].hist()"
   ]
  },
  {
   "cell_type": "markdown",
   "metadata": {},
   "source": [
    "- `Industry`:"
   ]
  },
  {
   "cell_type": "code",
   "execution_count": 11,
   "metadata": {},
   "outputs": [
    {
     "data": {
      "text/plain": [
       "<AxesSubplot: >"
      ]
     },
     "execution_count": 11,
     "metadata": {},
     "output_type": "execute_result"
    },
    {
     "data": {
      "image/png": "[encoded data removed]",
      "text/plain": [
       "<Figure size 640x480 with 1 Axes>"
      ]
     },
     "metadata": {},
     "output_type": "display_data"
    }
   ],
   "source": [
    "df3['Industry'].hist(xrot=90)"
   ]
  },
  {
   "cell_type": "markdown",
   "metadata": {},
   "source": [
    "Z racji na bardzo rzadko występującą wartość 'Transport' wszystkie wiersze, w których występuje zostaną usunięte."
   ]
  },
  {
   "cell_type": "code",
   "execution_count": 12,
   "metadata": {},
   "outputs": [],
   "source": [
    "df3.drop(df3.loc[df3['Industry']=='Transport'].index, inplace=True)"
   ]
  },
  {
   "cell_type": "markdown",
   "metadata": {},
   "source": [
    "Poniższy histogram przedstawia zbalansowanie zmiennej objaśnianej (`Approved`) w zbiorze."
   ]
  },
  {
   "cell_type": "code",
   "execution_count": 13,
   "metadata": {},
   "outputs": [
    {
     "data": {
      "text/plain": [
       "<AxesSubplot: >"
      ]
     },
     "execution_count": 13,
     "metadata": {},
     "output_type": "execute_result"
    },
    {
     "data": {
      "image/png": "[encoded data removed]",
      "text/plain": [
       "<Figure size 640x480 with 1 Axes>"
      ]
     },
     "metadata": {},
     "output_type": "display_data"
    }
   ],
   "source": [
    "df3['Approved'].hist()"
   ]
  },
  {
   "cell_type": "markdown",
   "metadata": {},
   "source": [
    "Poniżej można zobaczyć jak zmienne objaśniające skorelowane są ze zmienną objaśnianą."
   ]
  },
  {
   "cell_type": "code",
   "execution_count": 66,
   "metadata": {},
   "outputs": [
    {
     "data": {
      "text/plain": [
       "Gender           -0.030324\n",
       "Age               0.162800\n",
       "Debt              0.204420\n",
       "Married           0.177369\n",
       "BankCustomer      0.185796\n",
       "YearsEmployed     0.319698\n",
       "PriorDefault      0.719196\n",
       "Employed          0.458746\n",
       "CreditScore       0.406026\n",
       "DriversLicense    0.029653\n",
       "Citizen           0.088660\n",
       "ZipCode          -0.098440\n",
       "Income            0.170904\n",
       "Approved          1.000000\n",
       "Name: Approved, dtype: float64"
      ]
     },
     "execution_count": 66,
     "metadata": {},
     "output_type": "execute_result"
    }
   ],
   "source": [
    "correlationMatrix = df3.corr()\n",
    "correlationMatrix['Approved']"
   ]
  },
  {
   "cell_type": "markdown",
   "metadata": {},
   "source": [
    "Po zbadaniu korelacji miedzy zmiennymi objaśniającymi, a zmienną objaśnianą usunięte zostaną zmienne `Citizen`, `DriverLicense`, `ZipCode` oraz `Gender`, ponieważ ich współczynnik korelacji ze zmienną objaśnianą jest niski, co oznacza, że nie mają one większego wpływu na zmienną objaśnianą."
   ]
  },
  {
   "cell_type": "code",
   "execution_count": 15,
   "metadata": {},
   "outputs": [
    {
     "data": {
      "text/html": [
       "<div>\n",
       "<style scoped>\n",
       "    .dataframe tbody tr th:only-of-type {\n",
       "        vertical-align: middle;\n",
       "    }\n",
       "\n",
       "    .dataframe tbody tr th {\n",
       "        vertical-align: top;\n",
       "    }\n",
       "\n",
       "    .dataframe thead th {\n",
       "        text-align: right;\n",
       "    }\n",
       "</style>\n",
       "<table border=\"1\" class=\"dataframe\">\n",
       "  <thead>\n",
       "    <tr style=\"text-align: right;\">\n",
       "      <th></th>\n",
       "      <th>Age</th>\n",
       "      <th>Debt</th>\n",
       "      <th>Married</th>\n",
       "      <th>BankCustomer</th>\n",
       "      <th>Industry</th>\n",
       "      <th>Ethnicity</th>\n",
       "      <th>YearsEmployed</th>\n",
       "      <th>PriorDefault</th>\n",
       "      <th>Employed</th>\n",
       "      <th>CreditScore</th>\n",
       "      <th>Income</th>\n",
       "      <th>Approved</th>\n",
       "    </tr>\n",
       "  </thead>\n",
       "  <tbody>\n",
       "    <tr>\n",
       "      <th>0</th>\n",
       "      <td>30.83</td>\n",
       "      <td>0.000</td>\n",
       "      <td>1</td>\n",
       "      <td>1</td>\n",
       "      <td>Industrials</td>\n",
       "      <td>White</td>\n",
       "      <td>1.25</td>\n",
       "      <td>1</td>\n",
       "      <td>1</td>\n",
       "      <td>1</td>\n",
       "      <td>0</td>\n",
       "      <td>1</td>\n",
       "    </tr>\n",
       "    <tr>\n",
       "      <th>1</th>\n",
       "      <td>58.67</td>\n",
       "      <td>4.460</td>\n",
       "      <td>1</td>\n",
       "      <td>1</td>\n",
       "      <td>Materials</td>\n",
       "      <td>Black</td>\n",
       "      <td>3.04</td>\n",
       "      <td>1</td>\n",
       "      <td>1</td>\n",
       "      <td>6</td>\n",
       "      <td>560</td>\n",
       "      <td>1</td>\n",
       "    </tr>\n",
       "    <tr>\n",
       "      <th>2</th>\n",
       "      <td>24.50</td>\n",
       "      <td>0.500</td>\n",
       "      <td>1</td>\n",
       "      <td>1</td>\n",
       "      <td>Materials</td>\n",
       "      <td>Black</td>\n",
       "      <td>1.50</td>\n",
       "      <td>1</td>\n",
       "      <td>0</td>\n",
       "      <td>0</td>\n",
       "      <td>824</td>\n",
       "      <td>1</td>\n",
       "    </tr>\n",
       "    <tr>\n",
       "      <th>3</th>\n",
       "      <td>27.83</td>\n",
       "      <td>1.540</td>\n",
       "      <td>1</td>\n",
       "      <td>1</td>\n",
       "      <td>Industrials</td>\n",
       "      <td>White</td>\n",
       "      <td>3.75</td>\n",
       "      <td>1</td>\n",
       "      <td>1</td>\n",
       "      <td>5</td>\n",
       "      <td>3</td>\n",
       "      <td>1</td>\n",
       "    </tr>\n",
       "    <tr>\n",
       "      <th>4</th>\n",
       "      <td>20.17</td>\n",
       "      <td>5.625</td>\n",
       "      <td>1</td>\n",
       "      <td>1</td>\n",
       "      <td>Industrials</td>\n",
       "      <td>White</td>\n",
       "      <td>1.71</td>\n",
       "      <td>1</td>\n",
       "      <td>0</td>\n",
       "      <td>0</td>\n",
       "      <td>0</td>\n",
       "      <td>1</td>\n",
       "    </tr>\n",
       "  </tbody>\n",
       "</table>\n",
       "</div>"
      ],
      "text/plain": [
       "     Age   Debt  Married  BankCustomer     Industry Ethnicity  YearsEmployed  \\\n",
       "0  30.83  0.000        1             1  Industrials     White           1.25   \n",
       "1  58.67  4.460        1             1    Materials     Black           3.04   \n",
       "2  24.50  0.500        1             1    Materials     Black           1.50   \n",
       "3  27.83  1.540        1             1  Industrials     White           3.75   \n",
       "4  20.17  5.625        1             1  Industrials     White           1.71   \n",
       "\n",
       "   PriorDefault  Employed  CreditScore  Income  Approved  \n",
       "0             1         1            1       0         1  \n",
       "1             1         1            6     560         1  \n",
       "2             1         0            0     824         1  \n",
       "3             1         1            5       3         1  \n",
       "4             1         0            0       0         1  "
      ]
     },
     "execution_count": 15,
     "metadata": {},
     "output_type": "execute_result"
    }
   ],
   "source": [
    "df4 = df3.drop(columns=['Citizen', 'ZipCode', 'Gender', 'DriversLicense'])\n",
    "df4.head()"
   ]
  },
  {
   "cell_type": "markdown",
   "metadata": {},
   "source": [
    "Teraz należy sprawdzić czy są jakieś braki danych w poszczególnych zmiennych, poniżej zostaną wypisane te zmienne, w których można znaleźć brakujące wartości."
   ]
  },
  {
   "cell_type": "code",
   "execution_count": 16,
   "metadata": {},
   "outputs": [
    {
     "data": {
      "text/plain": [
       "[]"
      ]
     },
     "execution_count": 16,
     "metadata": {},
     "output_type": "execute_result"
    }
   ],
   "source": [
    "missing = [var for var in df4.columns if df4[var].isnull().sum() > 0]\n",
    "missing"
   ]
  },
  {
   "cell_type": "markdown",
   "metadata": {},
   "source": [
    "Jak widać, nie zostały wypisane żadne zmienne, co oznacza, że nigdzie nie występują braki danych"
   ]
  },
  {
   "cell_type": "markdown",
   "metadata": {},
   "source": [
    "Teraz przyjżyjmy się jakie są średnie wartości poszczególnych zmiennych objaśniających w zależności od tego czy zmienna objaśniająca przyjmuje wartość $1$ (wydanie karty kredytowej), czy przyjmuje wartość $0$ (decyzja o niewydaniu karty kredytowej)"
   ]
  },
  {
   "cell_type": "code",
   "execution_count": 67,
   "metadata": {},
   "outputs": [
    {
     "data": {
      "text/html": [
       "<div>\n",
       "<style scoped>\n",
       "    .dataframe tbody tr th:only-of-type {\n",
       "        vertical-align: middle;\n",
       "    }\n",
       "\n",
       "    .dataframe tbody tr th {\n",
       "        vertical-align: top;\n",
       "    }\n",
       "\n",
       "    .dataframe thead th {\n",
       "        text-align: right;\n",
       "    }\n",
       "</style>\n",
       "<table border=\"1\" class=\"dataframe\">\n",
       "  <thead>\n",
       "    <tr style=\"text-align: right;\">\n",
       "      <th></th>\n",
       "      <th>Age</th>\n",
       "      <th>Debt</th>\n",
       "      <th>Married</th>\n",
       "      <th>BankCustomer</th>\n",
       "      <th>YearsEmployed</th>\n",
       "      <th>PriorDefault</th>\n",
       "      <th>Employed</th>\n",
       "      <th>CreditScore</th>\n",
       "      <th>Income</th>\n",
       "    </tr>\n",
       "    <tr>\n",
       "      <th>Approved</th>\n",
       "      <th></th>\n",
       "      <th></th>\n",
       "      <th></th>\n",
       "      <th></th>\n",
       "      <th></th>\n",
       "      <th></th>\n",
       "      <th></th>\n",
       "      <th></th>\n",
       "      <th></th>\n",
       "    </tr>\n",
       "  </thead>\n",
       "  <tbody>\n",
       "    <tr>\n",
       "      <th>0</th>\n",
       "      <td>29.794895</td>\n",
       "      <td>3.848037</td>\n",
       "      <td>0.693717</td>\n",
       "      <td>0.693717</td>\n",
       "      <td>1.259254</td>\n",
       "      <td>0.201571</td>\n",
       "      <td>0.225131</td>\n",
       "      <td>0.633508</td>\n",
       "      <td>199.120419</td>\n",
       "    </tr>\n",
       "    <tr>\n",
       "      <th>1</th>\n",
       "      <td>33.684426</td>\n",
       "      <td>5.891082</td>\n",
       "      <td>0.845902</td>\n",
       "      <td>0.852459</td>\n",
       "      <td>3.411443</td>\n",
       "      <td>0.924590</td>\n",
       "      <td>0.681967</td>\n",
       "      <td>4.606557</td>\n",
       "      <td>1949.216393</td>\n",
       "    </tr>\n",
       "  </tbody>\n",
       "</table>\n",
       "</div>"
      ],
      "text/plain": [
       "                Age      Debt   Married  BankCustomer  YearsEmployed  \\\n",
       "Approved                                                               \n",
       "0         29.794895  3.848037  0.693717      0.693717       1.259254   \n",
       "1         33.684426  5.891082  0.845902      0.852459       3.411443   \n",
       "\n",
       "          PriorDefault  Employed  CreditScore       Income  \n",
       "Approved                                                    \n",
       "0             0.201571  0.225131     0.633508   199.120419  \n",
       "1             0.924590  0.681967     4.606557  1949.216393  "
      ]
     },
     "execution_count": 67,
     "metadata": {},
     "output_type": "execute_result"
    }
   ],
   "source": [
    "df4.groupby('Approved').mean()"
   ]
  },
  {
   "cell_type": "markdown",
   "metadata": {},
   "source": [
    "Obserwacje:\n",
    "- Im osoba jest starsza lub też jeśli jest w związku małżeńskim, tym większe prawdopodobieństwo, że otrzyma kartę kredytową\n",
    "- Również im większa jest liczba przepracowanych lat, zdolność kredytowa czy też dochody tym większa szansa na powodzenie"
   ]
  },
  {
   "cell_type": "markdown",
   "metadata": {},
   "source": [
    "Teraz przyjrzyjmy się zmiennym kategorycznym\n",
    "\n",
    "- `Industry`"
   ]
  },
  {
   "cell_type": "code",
   "execution_count": 18,
   "metadata": {},
   "outputs": [
    {
     "data": {
      "image/png": "[encoded data removed]",
      "text/plain": [
       "<Figure size 640x480 with 1 Axes>"
      ]
     },
     "metadata": {},
     "output_type": "display_data"
    }
   ],
   "source": [
    "pd.crosstab(df4.Industry,df4.Approved).plot(kind='bar') \n",
    "plt.title('Branża, a prawdopodobieństwo otrzymania karty') \n",
    "plt.xlabel('Branża') \n",
    "plt.ylabel('Częstotliwość') \n",
    "plt.savefig('Industry_Approved')"
   ]
  },
  {
   "cell_type": "markdown",
   "metadata": {},
   "source": [
    "- `Ethnicity`"
   ]
  },
  {
   "cell_type": "code",
   "execution_count": 19,
   "metadata": {},
   "outputs": [
    {
     "data": {
      "image/png": "[encoded data removed]",
      "text/plain": [
       "<Figure size 640x480 with 1 Axes>"
      ]
     },
     "metadata": {},
     "output_type": "display_data"
    }
   ],
   "source": [
    "table=pd.crosstab(df4.Ethnicity,df4.Approved)\n",
    "table.div(table.sum(1).astype(float), axis=0).plot(kind='bar', stacked=True)\n",
    "plt.title('Etniczność, a prawdopodobieństwo otrzymania karty kredytowej')\n",
    "plt.xlabel('Etniczność')\n",
    "plt.ylabel('Proporcje')\n",
    "plt.savefig('Ethnicity_Approved')"
   ]
  },
  {
   "cell_type": "markdown",
   "metadata": {},
   "source": [
    "Z tego co widać na wykresach `Ethnicity` oraz `Industry` mogą być dobrymi predykatorami zmiennej wynikowej"
   ]
  },
  {
   "cell_type": "markdown",
   "metadata": {},
   "source": [
    "Następnym krokiem będzie zakodowanie zmiennych kategorialnych"
   ]
  },
  {
   "cell_type": "code",
   "execution_count": 20,
   "metadata": {},
   "outputs": [
    {
     "data": {
      "text/html": [
       "<div>\n",
       "<style scoped>\n",
       "    .dataframe tbody tr th:only-of-type {\n",
       "        vertical-align: middle;\n",
       "    }\n",
       "\n",
       "    .dataframe tbody tr th {\n",
       "        vertical-align: top;\n",
       "    }\n",
       "\n",
       "    .dataframe thead th {\n",
       "        text-align: right;\n",
       "    }\n",
       "</style>\n",
       "<table border=\"1\" class=\"dataframe\">\n",
       "  <thead>\n",
       "    <tr style=\"text-align: right;\">\n",
       "      <th></th>\n",
       "      <th>Age</th>\n",
       "      <th>Debt</th>\n",
       "      <th>Married</th>\n",
       "      <th>BankCustomer</th>\n",
       "      <th>YearsEmployed</th>\n",
       "      <th>PriorDefault</th>\n",
       "      <th>Employed</th>\n",
       "      <th>CreditScore</th>\n",
       "      <th>Income</th>\n",
       "      <th>Approved</th>\n",
       "      <th>...</th>\n",
       "      <th>Industry_Healthcare</th>\n",
       "      <th>Industry_Industrials</th>\n",
       "      <th>Industry_InformationTechnology</th>\n",
       "      <th>Industry_Materials</th>\n",
       "      <th>Industry_Real Estate</th>\n",
       "      <th>Industry_Research</th>\n",
       "      <th>Industry_Utilities</th>\n",
       "      <th>Ethnicity_Black</th>\n",
       "      <th>Ethnicity_Other</th>\n",
       "      <th>Ethnicity_White</th>\n",
       "    </tr>\n",
       "  </thead>\n",
       "  <tbody>\n",
       "    <tr>\n",
       "      <th>0</th>\n",
       "      <td>30.83</td>\n",
       "      <td>0.000</td>\n",
       "      <td>1</td>\n",
       "      <td>1</td>\n",
       "      <td>1.25</td>\n",
       "      <td>1</td>\n",
       "      <td>1</td>\n",
       "      <td>1</td>\n",
       "      <td>0</td>\n",
       "      <td>1</td>\n",
       "      <td>...</td>\n",
       "      <td>0</td>\n",
       "      <td>1</td>\n",
       "      <td>0</td>\n",
       "      <td>0</td>\n",
       "      <td>0</td>\n",
       "      <td>0</td>\n",
       "      <td>0</td>\n",
       "      <td>0</td>\n",
       "      <td>0</td>\n",
       "      <td>1</td>\n",
       "    </tr>\n",
       "    <tr>\n",
       "      <th>1</th>\n",
       "      <td>58.67</td>\n",
       "      <td>4.460</td>\n",
       "      <td>1</td>\n",
       "      <td>1</td>\n",
       "      <td>3.04</td>\n",
       "      <td>1</td>\n",
       "      <td>1</td>\n",
       "      <td>6</td>\n",
       "      <td>560</td>\n",
       "      <td>1</td>\n",
       "      <td>...</td>\n",
       "      <td>0</td>\n",
       "      <td>0</td>\n",
       "      <td>0</td>\n",
       "      <td>1</td>\n",
       "      <td>0</td>\n",
       "      <td>0</td>\n",
       "      <td>0</td>\n",
       "      <td>1</td>\n",
       "      <td>0</td>\n",
       "      <td>0</td>\n",
       "    </tr>\n",
       "    <tr>\n",
       "      <th>2</th>\n",
       "      <td>24.50</td>\n",
       "      <td>0.500</td>\n",
       "      <td>1</td>\n",
       "      <td>1</td>\n",
       "      <td>1.50</td>\n",
       "      <td>1</td>\n",
       "      <td>0</td>\n",
       "      <td>0</td>\n",
       "      <td>824</td>\n",
       "      <td>1</td>\n",
       "      <td>...</td>\n",
       "      <td>0</td>\n",
       "      <td>0</td>\n",
       "      <td>0</td>\n",
       "      <td>1</td>\n",
       "      <td>0</td>\n",
       "      <td>0</td>\n",
       "      <td>0</td>\n",
       "      <td>1</td>\n",
       "      <td>0</td>\n",
       "      <td>0</td>\n",
       "    </tr>\n",
       "    <tr>\n",
       "      <th>3</th>\n",
       "      <td>27.83</td>\n",
       "      <td>1.540</td>\n",
       "      <td>1</td>\n",
       "      <td>1</td>\n",
       "      <td>3.75</td>\n",
       "      <td>1</td>\n",
       "      <td>1</td>\n",
       "      <td>5</td>\n",
       "      <td>3</td>\n",
       "      <td>1</td>\n",
       "      <td>...</td>\n",
       "      <td>0</td>\n",
       "      <td>1</td>\n",
       "      <td>0</td>\n",
       "      <td>0</td>\n",
       "      <td>0</td>\n",
       "      <td>0</td>\n",
       "      <td>0</td>\n",
       "      <td>0</td>\n",
       "      <td>0</td>\n",
       "      <td>1</td>\n",
       "    </tr>\n",
       "    <tr>\n",
       "      <th>4</th>\n",
       "      <td>20.17</td>\n",
       "      <td>5.625</td>\n",
       "      <td>1</td>\n",
       "      <td>1</td>\n",
       "      <td>1.71</td>\n",
       "      <td>1</td>\n",
       "      <td>0</td>\n",
       "      <td>0</td>\n",
       "      <td>0</td>\n",
       "      <td>1</td>\n",
       "      <td>...</td>\n",
       "      <td>0</td>\n",
       "      <td>1</td>\n",
       "      <td>0</td>\n",
       "      <td>0</td>\n",
       "      <td>0</td>\n",
       "      <td>0</td>\n",
       "      <td>0</td>\n",
       "      <td>0</td>\n",
       "      <td>0</td>\n",
       "      <td>1</td>\n",
       "    </tr>\n",
       "    <tr>\n",
       "      <th>...</th>\n",
       "      <td>...</td>\n",
       "      <td>...</td>\n",
       "      <td>...</td>\n",
       "      <td>...</td>\n",
       "      <td>...</td>\n",
       "      <td>...</td>\n",
       "      <td>...</td>\n",
       "      <td>...</td>\n",
       "      <td>...</td>\n",
       "      <td>...</td>\n",
       "      <td>...</td>\n",
       "      <td>...</td>\n",
       "      <td>...</td>\n",
       "      <td>...</td>\n",
       "      <td>...</td>\n",
       "      <td>...</td>\n",
       "      <td>...</td>\n",
       "      <td>...</td>\n",
       "      <td>...</td>\n",
       "      <td>...</td>\n",
       "      <td>...</td>\n",
       "    </tr>\n",
       "    <tr>\n",
       "      <th>685</th>\n",
       "      <td>21.08</td>\n",
       "      <td>10.085</td>\n",
       "      <td>0</td>\n",
       "      <td>0</td>\n",
       "      <td>1.25</td>\n",
       "      <td>0</td>\n",
       "      <td>0</td>\n",
       "      <td>0</td>\n",
       "      <td>0</td>\n",
       "      <td>0</td>\n",
       "      <td>...</td>\n",
       "      <td>0</td>\n",
       "      <td>0</td>\n",
       "      <td>0</td>\n",
       "      <td>0</td>\n",
       "      <td>0</td>\n",
       "      <td>0</td>\n",
       "      <td>0</td>\n",
       "      <td>1</td>\n",
       "      <td>0</td>\n",
       "      <td>0</td>\n",
       "    </tr>\n",
       "    <tr>\n",
       "      <th>686</th>\n",
       "      <td>22.67</td>\n",
       "      <td>0.750</td>\n",
       "      <td>1</td>\n",
       "      <td>1</td>\n",
       "      <td>2.00</td>\n",
       "      <td>0</td>\n",
       "      <td>1</td>\n",
       "      <td>2</td>\n",
       "      <td>394</td>\n",
       "      <td>0</td>\n",
       "      <td>...</td>\n",
       "      <td>0</td>\n",
       "      <td>0</td>\n",
       "      <td>0</td>\n",
       "      <td>0</td>\n",
       "      <td>0</td>\n",
       "      <td>0</td>\n",
       "      <td>0</td>\n",
       "      <td>0</td>\n",
       "      <td>0</td>\n",
       "      <td>1</td>\n",
       "    </tr>\n",
       "    <tr>\n",
       "      <th>687</th>\n",
       "      <td>25.25</td>\n",
       "      <td>13.500</td>\n",
       "      <td>0</td>\n",
       "      <td>0</td>\n",
       "      <td>2.00</td>\n",
       "      <td>0</td>\n",
       "      <td>1</td>\n",
       "      <td>1</td>\n",
       "      <td>1</td>\n",
       "      <td>0</td>\n",
       "      <td>...</td>\n",
       "      <td>1</td>\n",
       "      <td>0</td>\n",
       "      <td>0</td>\n",
       "      <td>0</td>\n",
       "      <td>0</td>\n",
       "      <td>0</td>\n",
       "      <td>0</td>\n",
       "      <td>0</td>\n",
       "      <td>1</td>\n",
       "      <td>0</td>\n",
       "    </tr>\n",
       "    <tr>\n",
       "      <th>688</th>\n",
       "      <td>17.92</td>\n",
       "      <td>0.205</td>\n",
       "      <td>1</td>\n",
       "      <td>1</td>\n",
       "      <td>0.04</td>\n",
       "      <td>0</td>\n",
       "      <td>0</td>\n",
       "      <td>0</td>\n",
       "      <td>750</td>\n",
       "      <td>0</td>\n",
       "      <td>...</td>\n",
       "      <td>0</td>\n",
       "      <td>0</td>\n",
       "      <td>0</td>\n",
       "      <td>0</td>\n",
       "      <td>0</td>\n",
       "      <td>0</td>\n",
       "      <td>0</td>\n",
       "      <td>0</td>\n",
       "      <td>0</td>\n",
       "      <td>1</td>\n",
       "    </tr>\n",
       "    <tr>\n",
       "      <th>689</th>\n",
       "      <td>35.00</td>\n",
       "      <td>3.375</td>\n",
       "      <td>1</td>\n",
       "      <td>1</td>\n",
       "      <td>8.29</td>\n",
       "      <td>0</td>\n",
       "      <td>0</td>\n",
       "      <td>0</td>\n",
       "      <td>0</td>\n",
       "      <td>0</td>\n",
       "      <td>...</td>\n",
       "      <td>0</td>\n",
       "      <td>0</td>\n",
       "      <td>0</td>\n",
       "      <td>0</td>\n",
       "      <td>0</td>\n",
       "      <td>0</td>\n",
       "      <td>0</td>\n",
       "      <td>1</td>\n",
       "      <td>0</td>\n",
       "      <td>0</td>\n",
       "    </tr>\n",
       "  </tbody>\n",
       "</table>\n",
       "<p>687 rows × 26 columns</p>\n",
       "</div>"
      ],
      "text/plain": [
       "       Age    Debt  Married  BankCustomer  YearsEmployed  PriorDefault  \\\n",
       "0    30.83   0.000        1             1           1.25             1   \n",
       "1    58.67   4.460        1             1           3.04             1   \n",
       "2    24.50   0.500        1             1           1.50             1   \n",
       "3    27.83   1.540        1             1           3.75             1   \n",
       "4    20.17   5.625        1             1           1.71             1   \n",
       "..     ...     ...      ...           ...            ...           ...   \n",
       "685  21.08  10.085        0             0           1.25             0   \n",
       "686  22.67   0.750        1             1           2.00             0   \n",
       "687  25.25  13.500        0             0           2.00             0   \n",
       "688  17.92   0.205        1             1           0.04             0   \n",
       "689  35.00   3.375        1             1           8.29             0   \n",
       "\n",
       "     Employed  CreditScore  Income  Approved  ...  Industry_Healthcare  \\\n",
       "0           1            1       0         1  ...                    0   \n",
       "1           1            6     560         1  ...                    0   \n",
       "2           0            0     824         1  ...                    0   \n",
       "3           1            5       3         1  ...                    0   \n",
       "4           0            0       0         1  ...                    0   \n",
       "..        ...          ...     ...       ...  ...                  ...   \n",
       "685         0            0       0         0  ...                    0   \n",
       "686         1            2     394         0  ...                    0   \n",
       "687         1            1       1         0  ...                    1   \n",
       "688         0            0     750         0  ...                    0   \n",
       "689         0            0       0         0  ...                    0   \n",
       "\n",
       "     Industry_Industrials  Industry_InformationTechnology  Industry_Materials  \\\n",
       "0                       1                               0                   0   \n",
       "1                       0                               0                   1   \n",
       "2                       0                               0                   1   \n",
       "3                       1                               0                   0   \n",
       "4                       1                               0                   0   \n",
       "..                    ...                             ...                 ...   \n",
       "685                     0                               0                   0   \n",
       "686                     0                               0                   0   \n",
       "687                     0                               0                   0   \n",
       "688                     0                               0                   0   \n",
       "689                     0                               0                   0   \n",
       "\n",
       "     Industry_Real Estate  Industry_Research  Industry_Utilities  \\\n",
       "0                       0                  0                   0   \n",
       "1                       0                  0                   0   \n",
       "2                       0                  0                   0   \n",
       "3                       0                  0                   0   \n",
       "4                       0                  0                   0   \n",
       "..                    ...                ...                 ...   \n",
       "685                     0                  0                   0   \n",
       "686                     0                  0                   0   \n",
       "687                     0                  0                   0   \n",
       "688                     0                  0                   0   \n",
       "689                     0                  0                   0   \n",
       "\n",
       "     Ethnicity_Black  Ethnicity_Other  Ethnicity_White  \n",
       "0                  0                0                1  \n",
       "1                  1                0                0  \n",
       "2                  1                0                0  \n",
       "3                  0                0                1  \n",
       "4                  0                0                1  \n",
       "..               ...              ...              ...  \n",
       "685                1                0                0  \n",
       "686                0                0                1  \n",
       "687                0                1                0  \n",
       "688                0                0                1  \n",
       "689                1                0                0  \n",
       "\n",
       "[687 rows x 26 columns]"
      ]
     },
     "execution_count": 20,
     "metadata": {},
     "output_type": "execute_result"
    }
   ],
   "source": [
    "df4_tips = pd.get_dummies(df4)\n",
    "df4_tips"
   ]
  },
  {
   "cell_type": "code",
   "execution_count": 21,
   "metadata": {},
   "outputs": [
    {
     "data": {
      "text/plain": [
       "Index(['Age', 'Debt', 'Married', 'BankCustomer', 'YearsEmployed',\n",
       "       'PriorDefault', 'Employed', 'CreditScore', 'Income', 'Approved',\n",
       "       'Industry_CommunicationServices', 'Industry_ConsumerDiscretionary',\n",
       "       'Industry_ConsumerStaples', 'Industry_Education', 'Industry_Energy',\n",
       "       'Industry_Financials', 'Industry_Healthcare', 'Industry_Industrials',\n",
       "       'Industry_InformationTechnology', 'Industry_Materials',\n",
       "       'Industry_Real Estate', 'Industry_Research', 'Industry_Utilities',\n",
       "       'Ethnicity_Black', 'Ethnicity_Other', 'Ethnicity_White'],\n",
       "      dtype='object')"
      ]
     },
     "execution_count": 21,
     "metadata": {},
     "output_type": "execute_result"
    }
   ],
   "source": [
    "from sklearn.preprocessing import OneHotEncoder\n",
    "df4.keys()\n",
    "df4_tips.keys()"
   ]
  },
  {
   "cell_type": "code",
   "execution_count": 22,
   "metadata": {},
   "outputs": [
    {
     "data": {
      "text/plain": [
       "array([[0., 0., 0., ..., 0., 0., 1.],\n",
       "       [0., 0., 0., ..., 1., 0., 0.],\n",
       "       [0., 0., 0., ..., 1., 0., 0.],\n",
       "       ...,\n",
       "       [0., 0., 0., ..., 0., 1., 0.],\n",
       "       [0., 0., 1., ..., 0., 0., 1.],\n",
       "       [0., 0., 0., ..., 1., 0., 0.]])"
      ]
     },
     "execution_count": 22,
     "metadata": {},
     "output_type": "execute_result"
    }
   ],
   "source": [
    "one_encode = OneHotEncoder(sparse=False)\n",
    "encode_arr = one_encode.fit_transform(df4[['Industry', 'Ethnicity']])\n",
    "encode_arr"
   ]
  },
  {
   "cell_type": "code",
   "execution_count": 23,
   "metadata": {},
   "outputs": [],
   "source": [
    "df4_second = pd.DataFrame(encode_arr, columns=['Industry_CommunicationServices', 'Industry_ConsumerDiscretionary',\n",
    "       'Industry_ConsumerStaples', 'Industry_Education', 'Industry_Energy',\n",
    "       'Industry_Financials', 'Industry_Healthcare', 'Industry_Industrials',\n",
    "       'Industry_InformationTechnology', 'Industry_Materials',\n",
    "       'Industry_Real Estate', 'Industry_Research', 'Industry_Utilities',\n",
    "       'Ethnicity_Black', 'Ethnicity_Other', 'Ethnicity_White'])"
   ]
  },
  {
   "cell_type": "code",
   "execution_count": 24,
   "metadata": {},
   "outputs": [
    {
     "data": {
      "text/html": [
       "<div>\n",
       "<style scoped>\n",
       "    .dataframe tbody tr th:only-of-type {\n",
       "        vertical-align: middle;\n",
       "    }\n",
       "\n",
       "    .dataframe tbody tr th {\n",
       "        vertical-align: top;\n",
       "    }\n",
       "\n",
       "    .dataframe thead th {\n",
       "        text-align: right;\n",
       "    }\n",
       "</style>\n",
       "<table border=\"1\" class=\"dataframe\">\n",
       "  <thead>\n",
       "    <tr style=\"text-align: right;\">\n",
       "      <th></th>\n",
       "      <th>Industry_CommunicationServices</th>\n",
       "      <th>Industry_ConsumerDiscretionary</th>\n",
       "      <th>Industry_ConsumerStaples</th>\n",
       "      <th>Industry_Education</th>\n",
       "      <th>Industry_Energy</th>\n",
       "      <th>Industry_Financials</th>\n",
       "      <th>Industry_Healthcare</th>\n",
       "      <th>Industry_Industrials</th>\n",
       "      <th>Industry_InformationTechnology</th>\n",
       "      <th>Industry_Materials</th>\n",
       "      <th>...</th>\n",
       "      <th>Age</th>\n",
       "      <th>Debt</th>\n",
       "      <th>Married</th>\n",
       "      <th>BankCustomer</th>\n",
       "      <th>YearsEmployed</th>\n",
       "      <th>PriorDefault</th>\n",
       "      <th>Employed</th>\n",
       "      <th>CreditScore</th>\n",
       "      <th>Income</th>\n",
       "      <th>Approved</th>\n",
       "    </tr>\n",
       "  </thead>\n",
       "  <tbody>\n",
       "    <tr>\n",
       "      <th>0</th>\n",
       "      <td>0.0</td>\n",
       "      <td>0.0</td>\n",
       "      <td>0.0</td>\n",
       "      <td>0.0</td>\n",
       "      <td>0.0</td>\n",
       "      <td>0.0</td>\n",
       "      <td>0.0</td>\n",
       "      <td>1.0</td>\n",
       "      <td>0.0</td>\n",
       "      <td>0.0</td>\n",
       "      <td>...</td>\n",
       "      <td>30.83</td>\n",
       "      <td>0.000</td>\n",
       "      <td>1</td>\n",
       "      <td>1</td>\n",
       "      <td>1.250</td>\n",
       "      <td>1</td>\n",
       "      <td>1</td>\n",
       "      <td>1</td>\n",
       "      <td>0</td>\n",
       "      <td>1</td>\n",
       "    </tr>\n",
       "    <tr>\n",
       "      <th>1</th>\n",
       "      <td>0.0</td>\n",
       "      <td>0.0</td>\n",
       "      <td>0.0</td>\n",
       "      <td>0.0</td>\n",
       "      <td>0.0</td>\n",
       "      <td>0.0</td>\n",
       "      <td>0.0</td>\n",
       "      <td>0.0</td>\n",
       "      <td>0.0</td>\n",
       "      <td>1.0</td>\n",
       "      <td>...</td>\n",
       "      <td>58.67</td>\n",
       "      <td>4.460</td>\n",
       "      <td>1</td>\n",
       "      <td>1</td>\n",
       "      <td>3.040</td>\n",
       "      <td>1</td>\n",
       "      <td>1</td>\n",
       "      <td>6</td>\n",
       "      <td>560</td>\n",
       "      <td>1</td>\n",
       "    </tr>\n",
       "    <tr>\n",
       "      <th>2</th>\n",
       "      <td>0.0</td>\n",
       "      <td>0.0</td>\n",
       "      <td>0.0</td>\n",
       "      <td>0.0</td>\n",
       "      <td>0.0</td>\n",
       "      <td>0.0</td>\n",
       "      <td>0.0</td>\n",
       "      <td>0.0</td>\n",
       "      <td>0.0</td>\n",
       "      <td>1.0</td>\n",
       "      <td>...</td>\n",
       "      <td>24.50</td>\n",
       "      <td>0.500</td>\n",
       "      <td>1</td>\n",
       "      <td>1</td>\n",
       "      <td>1.500</td>\n",
       "      <td>1</td>\n",
       "      <td>0</td>\n",
       "      <td>0</td>\n",
       "      <td>824</td>\n",
       "      <td>1</td>\n",
       "    </tr>\n",
       "    <tr>\n",
       "      <th>3</th>\n",
       "      <td>0.0</td>\n",
       "      <td>0.0</td>\n",
       "      <td>0.0</td>\n",
       "      <td>0.0</td>\n",
       "      <td>0.0</td>\n",
       "      <td>0.0</td>\n",
       "      <td>0.0</td>\n",
       "      <td>1.0</td>\n",
       "      <td>0.0</td>\n",
       "      <td>0.0</td>\n",
       "      <td>...</td>\n",
       "      <td>27.83</td>\n",
       "      <td>1.540</td>\n",
       "      <td>1</td>\n",
       "      <td>1</td>\n",
       "      <td>3.750</td>\n",
       "      <td>1</td>\n",
       "      <td>1</td>\n",
       "      <td>5</td>\n",
       "      <td>3</td>\n",
       "      <td>1</td>\n",
       "    </tr>\n",
       "    <tr>\n",
       "      <th>4</th>\n",
       "      <td>0.0</td>\n",
       "      <td>0.0</td>\n",
       "      <td>0.0</td>\n",
       "      <td>0.0</td>\n",
       "      <td>0.0</td>\n",
       "      <td>0.0</td>\n",
       "      <td>0.0</td>\n",
       "      <td>1.0</td>\n",
       "      <td>0.0</td>\n",
       "      <td>0.0</td>\n",
       "      <td>...</td>\n",
       "      <td>20.17</td>\n",
       "      <td>5.625</td>\n",
       "      <td>1</td>\n",
       "      <td>1</td>\n",
       "      <td>1.710</td>\n",
       "      <td>1</td>\n",
       "      <td>0</td>\n",
       "      <td>0</td>\n",
       "      <td>0</td>\n",
       "      <td>1</td>\n",
       "    </tr>\n",
       "    <tr>\n",
       "      <th>...</th>\n",
       "      <td>...</td>\n",
       "      <td>...</td>\n",
       "      <td>...</td>\n",
       "      <td>...</td>\n",
       "      <td>...</td>\n",
       "      <td>...</td>\n",
       "      <td>...</td>\n",
       "      <td>...</td>\n",
       "      <td>...</td>\n",
       "      <td>...</td>\n",
       "      <td>...</td>\n",
       "      <td>...</td>\n",
       "      <td>...</td>\n",
       "      <td>...</td>\n",
       "      <td>...</td>\n",
       "      <td>...</td>\n",
       "      <td>...</td>\n",
       "      <td>...</td>\n",
       "      <td>...</td>\n",
       "      <td>...</td>\n",
       "      <td>...</td>\n",
       "    </tr>\n",
       "    <tr>\n",
       "      <th>682</th>\n",
       "      <td>0.0</td>\n",
       "      <td>0.0</td>\n",
       "      <td>0.0</td>\n",
       "      <td>1.0</td>\n",
       "      <td>0.0</td>\n",
       "      <td>0.0</td>\n",
       "      <td>0.0</td>\n",
       "      <td>0.0</td>\n",
       "      <td>0.0</td>\n",
       "      <td>0.0</td>\n",
       "      <td>...</td>\n",
       "      <td>17.08</td>\n",
       "      <td>3.290</td>\n",
       "      <td>1</td>\n",
       "      <td>1</td>\n",
       "      <td>0.335</td>\n",
       "      <td>0</td>\n",
       "      <td>0</td>\n",
       "      <td>0</td>\n",
       "      <td>2</td>\n",
       "      <td>0</td>\n",
       "    </tr>\n",
       "    <tr>\n",
       "      <th>683</th>\n",
       "      <td>0.0</td>\n",
       "      <td>0.0</td>\n",
       "      <td>0.0</td>\n",
       "      <td>0.0</td>\n",
       "      <td>1.0</td>\n",
       "      <td>0.0</td>\n",
       "      <td>0.0</td>\n",
       "      <td>0.0</td>\n",
       "      <td>0.0</td>\n",
       "      <td>0.0</td>\n",
       "      <td>...</td>\n",
       "      <td>36.42</td>\n",
       "      <td>0.750</td>\n",
       "      <td>0</td>\n",
       "      <td>0</td>\n",
       "      <td>0.585</td>\n",
       "      <td>0</td>\n",
       "      <td>0</td>\n",
       "      <td>0</td>\n",
       "      <td>3</td>\n",
       "      <td>0</td>\n",
       "    </tr>\n",
       "    <tr>\n",
       "      <th>684</th>\n",
       "      <td>0.0</td>\n",
       "      <td>0.0</td>\n",
       "      <td>0.0</td>\n",
       "      <td>0.0</td>\n",
       "      <td>0.0</td>\n",
       "      <td>0.0</td>\n",
       "      <td>1.0</td>\n",
       "      <td>0.0</td>\n",
       "      <td>0.0</td>\n",
       "      <td>0.0</td>\n",
       "      <td>...</td>\n",
       "      <td>40.58</td>\n",
       "      <td>3.290</td>\n",
       "      <td>1</td>\n",
       "      <td>1</td>\n",
       "      <td>3.500</td>\n",
       "      <td>0</td>\n",
       "      <td>0</td>\n",
       "      <td>0</td>\n",
       "      <td>0</td>\n",
       "      <td>0</td>\n",
       "    </tr>\n",
       "    <tr>\n",
       "      <th>685</th>\n",
       "      <td>0.0</td>\n",
       "      <td>0.0</td>\n",
       "      <td>1.0</td>\n",
       "      <td>0.0</td>\n",
       "      <td>0.0</td>\n",
       "      <td>0.0</td>\n",
       "      <td>0.0</td>\n",
       "      <td>0.0</td>\n",
       "      <td>0.0</td>\n",
       "      <td>0.0</td>\n",
       "      <td>...</td>\n",
       "      <td>21.08</td>\n",
       "      <td>10.085</td>\n",
       "      <td>0</td>\n",
       "      <td>0</td>\n",
       "      <td>1.250</td>\n",
       "      <td>0</td>\n",
       "      <td>0</td>\n",
       "      <td>0</td>\n",
       "      <td>0</td>\n",
       "      <td>0</td>\n",
       "    </tr>\n",
       "    <tr>\n",
       "      <th>686</th>\n",
       "      <td>0.0</td>\n",
       "      <td>0.0</td>\n",
       "      <td>0.0</td>\n",
       "      <td>0.0</td>\n",
       "      <td>1.0</td>\n",
       "      <td>0.0</td>\n",
       "      <td>0.0</td>\n",
       "      <td>0.0</td>\n",
       "      <td>0.0</td>\n",
       "      <td>0.0</td>\n",
       "      <td>...</td>\n",
       "      <td>22.67</td>\n",
       "      <td>0.750</td>\n",
       "      <td>1</td>\n",
       "      <td>1</td>\n",
       "      <td>2.000</td>\n",
       "      <td>0</td>\n",
       "      <td>1</td>\n",
       "      <td>2</td>\n",
       "      <td>394</td>\n",
       "      <td>0</td>\n",
       "    </tr>\n",
       "  </tbody>\n",
       "</table>\n",
       "<p>684 rows × 26 columns</p>\n",
       "</div>"
      ],
      "text/plain": [
       "     Industry_CommunicationServices  Industry_ConsumerDiscretionary  \\\n",
       "0                               0.0                             0.0   \n",
       "1                               0.0                             0.0   \n",
       "2                               0.0                             0.0   \n",
       "3                               0.0                             0.0   \n",
       "4                               0.0                             0.0   \n",
       "..                              ...                             ...   \n",
       "682                             0.0                             0.0   \n",
       "683                             0.0                             0.0   \n",
       "684                             0.0                             0.0   \n",
       "685                             0.0                             0.0   \n",
       "686                             0.0                             0.0   \n",
       "\n",
       "     Industry_ConsumerStaples  Industry_Education  Industry_Energy  \\\n",
       "0                         0.0                 0.0              0.0   \n",
       "1                         0.0                 0.0              0.0   \n",
       "2                         0.0                 0.0              0.0   \n",
       "3                         0.0                 0.0              0.0   \n",
       "4                         0.0                 0.0              0.0   \n",
       "..                        ...                 ...              ...   \n",
       "682                       0.0                 1.0              0.0   \n",
       "683                       0.0                 0.0              1.0   \n",
       "684                       0.0                 0.0              0.0   \n",
       "685                       1.0                 0.0              0.0   \n",
       "686                       0.0                 0.0              1.0   \n",
       "\n",
       "     Industry_Financials  Industry_Healthcare  Industry_Industrials  \\\n",
       "0                    0.0                  0.0                   1.0   \n",
       "1                    0.0                  0.0                   0.0   \n",
       "2                    0.0                  0.0                   0.0   \n",
       "3                    0.0                  0.0                   1.0   \n",
       "4                    0.0                  0.0                   1.0   \n",
       "..                   ...                  ...                   ...   \n",
       "682                  0.0                  0.0                   0.0   \n",
       "683                  0.0                  0.0                   0.0   \n",
       "684                  0.0                  1.0                   0.0   \n",
       "685                  0.0                  0.0                   0.0   \n",
       "686                  0.0                  0.0                   0.0   \n",
       "\n",
       "     Industry_InformationTechnology  Industry_Materials  ...    Age    Debt  \\\n",
       "0                               0.0                 0.0  ...  30.83   0.000   \n",
       "1                               0.0                 1.0  ...  58.67   4.460   \n",
       "2                               0.0                 1.0  ...  24.50   0.500   \n",
       "3                               0.0                 0.0  ...  27.83   1.540   \n",
       "4                               0.0                 0.0  ...  20.17   5.625   \n",
       "..                              ...                 ...  ...    ...     ...   \n",
       "682                             0.0                 0.0  ...  17.08   3.290   \n",
       "683                             0.0                 0.0  ...  36.42   0.750   \n",
       "684                             0.0                 0.0  ...  40.58   3.290   \n",
       "685                             0.0                 0.0  ...  21.08  10.085   \n",
       "686                             0.0                 0.0  ...  22.67   0.750   \n",
       "\n",
       "     Married  BankCustomer  YearsEmployed  PriorDefault  Employed  \\\n",
       "0          1             1          1.250             1         1   \n",
       "1          1             1          3.040             1         1   \n",
       "2          1             1          1.500             1         0   \n",
       "3          1             1          3.750             1         1   \n",
       "4          1             1          1.710             1         0   \n",
       "..       ...           ...            ...           ...       ...   \n",
       "682        1             1          0.335             0         0   \n",
       "683        0             0          0.585             0         0   \n",
       "684        1             1          3.500             0         0   \n",
       "685        0             0          1.250             0         0   \n",
       "686        1             1          2.000             0         1   \n",
       "\n",
       "     CreditScore  Income  Approved  \n",
       "0              1       0         1  \n",
       "1              6     560         1  \n",
       "2              0     824         1  \n",
       "3              5       3         1  \n",
       "4              0       0         1  \n",
       "..           ...     ...       ...  \n",
       "682            0       2         0  \n",
       "683            0       3         0  \n",
       "684            0       0         0  \n",
       "685            0       0         0  \n",
       "686            2     394         0  \n",
       "\n",
       "[684 rows x 26 columns]"
      ]
     },
     "execution_count": 24,
     "metadata": {},
     "output_type": "execute_result"
    }
   ],
   "source": [
    "first = ['Age', 'Debt', 'Married', 'BankCustomer', 'YearsEmployed',\n",
    "       'PriorDefault', 'Employed', 'CreditScore', 'Income', 'Approved']\n",
    "df4_first = df4[first]\n",
    "df4_final = pd.concat([df4_second, df4_first], axis=1, join=\"inner\")\n",
    "df4_final\n",
    "\n"
   ]
  },
  {
   "cell_type": "markdown",
   "metadata": {},
   "source": [
    "# Metoda KNN"
   ]
  },
  {
   "cell_type": "code",
   "execution_count": 25,
   "metadata": {},
   "outputs": [],
   "source": [
    "from sklearn.model_selection import train_test_split\n",
    "from sklearn.preprocessing import StandardScaler \n",
    "from sklearn.neighbors import KNeighborsClassifier\n",
    "from sklearn.metrics import classification_report, confusion_matrix"
   ]
  },
  {
   "cell_type": "markdown",
   "metadata": {},
   "source": [
    "Na początku dzielimy zbiór na zbiór treningowy (80%) oraz testowy (20%). "
   ]
  },
  {
   "cell_type": "code",
   "execution_count": 31,
   "metadata": {},
   "outputs": [],
   "source": [
    "X = df4_final.iloc[:, 0:25].values\n",
    "y = df4_final.iloc[:, 25].values \n",
    "X_train, X_test, y_train, y_test = train_test_split(X, y, test_size=0.20)"
   ]
  },
  {
   "cell_type": "markdown",
   "metadata": {},
   "source": [
    "Teraz należy sprawdzić zbalansowanie zbioru treningowego oraz testowego:\n",
    "\n",
    "- treningowy"
   ]
  },
  {
   "cell_type": "code",
   "execution_count": 32,
   "metadata": {},
   "outputs": [
    {
     "data": {
      "text/plain": [
       "Counter({0: 305, 1: 242})"
      ]
     },
     "execution_count": 32,
     "metadata": {},
     "output_type": "execute_result"
    }
   ],
   "source": [
    "counter_train = collections.Counter(y_train)\n",
    "counter_train"
   ]
  },
  {
   "cell_type": "markdown",
   "metadata": {},
   "source": [
    "- testowy"
   ]
  },
  {
   "cell_type": "code",
   "execution_count": 33,
   "metadata": {},
   "outputs": [
    {
     "data": {
      "text/plain": [
       "Counter({0: 74, 1: 63})"
      ]
     },
     "execution_count": 33,
     "metadata": {},
     "output_type": "execute_result"
    }
   ],
   "source": [
    "counter_test = collections.Counter(y_test)\n",
    "counter_test"
   ]
  },
  {
   "cell_type": "markdown",
   "metadata": {},
   "source": [
    "Jak widać oba zbiory są dość dobrze zbalansowane, co oznacza, że zarówno w zbiorze treningowym jak i testowym jest podobna ilość pozytywnych i negatywnych decyzji dotyczących wydania karty kredytowej danej osobie."
   ]
  },
  {
   "cell_type": "markdown",
   "metadata": {},
   "source": [
    "Następnym krokiem jest standaryzacja oraz użycie metody KNN"
   ]
  },
  {
   "cell_type": "markdown",
   "metadata": {},
   "source": [
    "- na początku k (ilość sąsiadów) = 3"
   ]
  },
  {
   "cell_type": "code",
   "execution_count": 34,
   "metadata": {},
   "outputs": [],
   "source": [
    "scaler = StandardScaler()\n",
    "scaler.fit(X_train)\n",
    "\n",
    "X_train = scaler.transform(X_train)\n",
    "X_test = scaler.transform(X_test) \n",
    "\n",
    "classifier = KNeighborsClassifier(n_neighbors=3)\n",
    "classifier.fit(X_train, y_train)\n",
    "\n",
    "y_predict = classifier.predict(X_test)"
   ]
  },
  {
   "cell_type": "code",
   "execution_count": 35,
   "metadata": {},
   "outputs": [
    {
     "name": "stdout",
     "output_type": "stream",
     "text": [
      "[[61 13]\n",
      " [15 48]]\n",
      "              precision    recall  f1-score   support\n",
      "\n",
      "           0       0.80      0.82      0.81        74\n",
      "           1       0.79      0.76      0.77        63\n",
      "\n",
      "    accuracy                           0.80       137\n",
      "   macro avg       0.79      0.79      0.79       137\n",
      "weighted avg       0.80      0.80      0.80       137\n",
      "\n"
     ]
    }
   ],
   "source": [
    "print(confusion_matrix(y_test, y_predict))\n",
    "print(classification_report(y_test, y_predict))"
   ]
  },
  {
   "cell_type": "markdown",
   "metadata": {},
   "source": [
    "Jak widać dokładność naszego modelu wynosi $0.80$, co nie jest złym wynikiem, ale dla porównania przyjmijmy jeszcze k = 5."
   ]
  },
  {
   "cell_type": "code",
   "execution_count": 36,
   "metadata": {},
   "outputs": [
    {
     "name": "stdout",
     "output_type": "stream",
     "text": [
      "[[65  9]\n",
      " [14 49]]\n",
      "              precision    recall  f1-score   support\n",
      "\n",
      "           0       0.82      0.88      0.85        74\n",
      "           1       0.84      0.78      0.81        63\n",
      "\n",
      "    accuracy                           0.83       137\n",
      "   macro avg       0.83      0.83      0.83       137\n",
      "weighted avg       0.83      0.83      0.83       137\n",
      "\n"
     ]
    }
   ],
   "source": [
    "classifier2 = KNeighborsClassifier(n_neighbors=5)\n",
    "classifier2.fit(X_train, y_train)\n",
    "\n",
    "y_predict2 = classifier2.predict(X_test)\n",
    "\n",
    "print(confusion_matrix(y_test, y_predict2))\n",
    "print(classification_report(y_test, y_predict2))"
   ]
  },
  {
   "cell_type": "markdown",
   "metadata": {},
   "source": [
    "W tym przypadku można zobaczyć, że dokładność naszego modelu trochę się poprawiła ($0,83$), stało się to za sprawą tego, że liczba osób, która nie powinna otrzymać karty kredytowej, a która jednak ją dostała zmniejszyła się z $13$ na $9$. Natomiast liczba osób, która powinna dostać kartę kredytową, a która jednak jej nie dostała spadła z $15$ do $14$."
   ]
  },
  {
   "cell_type": "markdown",
   "metadata": {},
   "source": [
    "Na koniec sprawdzimy czy dla k = 10 precyzja modelu znów się obniży, czy może jednak okaże się, że model będzie jeszcze lepszy niż ten pierwszy"
   ]
  },
  {
   "cell_type": "code",
   "execution_count": 37,
   "metadata": {},
   "outputs": [
    {
     "name": "stdout",
     "output_type": "stream",
     "text": [
      "[[66  8]\n",
      " [18 45]]\n",
      "              precision    recall  f1-score   support\n",
      "\n",
      "           0       0.79      0.89      0.84        74\n",
      "           1       0.85      0.71      0.78        63\n",
      "\n",
      "    accuracy                           0.81       137\n",
      "   macro avg       0.82      0.80      0.81       137\n",
      "weighted avg       0.81      0.81      0.81       137\n",
      "\n"
     ]
    }
   ],
   "source": [
    "classifier3 = KNeighborsClassifier(n_neighbors=10)\n",
    "classifier3.fit(X_train, y_train)\n",
    "\n",
    "y_predict3 = classifier3.predict(X_test)\n",
    "\n",
    "print(confusion_matrix(y_test, y_predict3))\n",
    "print(classification_report(y_test, y_predict3))"
   ]
  },
  {
   "cell_type": "markdown",
   "metadata": {},
   "source": [
    "W tym przypadku można zaobserwować, że dokładność naszego modelu jest gorsza niż w poprzednim przypadku ($k=5$), ale lepsza niż w pierwszym przypadku ($k=3$), ponieważ wynosi $0,81$, a stało się to ponieważ liczba osób, która nie powinna otrzymać karty kredytowej, a która jednak ją dostała spadła z $9$ do $8$, ale niestety liczba osób, które powinny dostać kartę, a jednak jej nie dostały wzrosła z $14$ do $18$."
   ]
  },
  {
   "cell_type": "markdown",
   "metadata": {},
   "source": [
    "# Regresja logistyczna"
   ]
  },
  {
   "cell_type": "markdown",
   "metadata": {},
   "source": [
    "Przed wdrożeniem regresji logistycznej skalujemy zmienne naszego zbioru danych za pomocą metody `MinMaxScaler` z pakietu sklearn"
   ]
  },
  {
   "cell_type": "code",
   "execution_count": 38,
   "metadata": {},
   "outputs": [],
   "source": [
    "from sklearn.preprocessing import MinMaxScaler\n",
    "from sklearn.linear_model import LogisticRegression "
   ]
  },
  {
   "cell_type": "code",
   "execution_count": 39,
   "metadata": {},
   "outputs": [
    {
     "data": {
      "text/html": [
       "<style>#sk-container-id-1 {color: black;background-color: white;}#sk-container-id-1 pre{padding: 0;}#sk-container-id-1 div.sk-toggleable {background-color: white;}#sk-container-id-1 label.sk-toggleable__label {cursor: pointer;display: block;width: 100%;margin-bottom: 0;padding: 0.3em;box-sizing: border-box;text-align: center;}#sk-container-id-1 label.sk-toggleable__label-arrow:before {content: \"▸\";float: left;margin-right: 0.25em;color: #696969;}#sk-container-id-1 label.sk-toggleable__label-arrow:hover:before {color: black;}#sk-container-id-1 div.sk-estimator:hover label.sk-toggleable__label-arrow:before {color: black;}#sk-container-id-1 div.sk-toggleable__content {max-height: 0;max-width: 0;overflow: hidden;text-align: left;background-color: #f0f8ff;}#sk-container-id-1 div.sk-toggleable__content pre {margin: 0.2em;color: black;border-radius: 0.25em;background-color: #f0f8ff;}#sk-container-id-1 input.sk-toggleable__control:checked~div.sk-toggleable__content {max-height: 200px;max-width: 100%;overflow: auto;}#sk-container-id-1 input.sk-toggleable__control:checked~label.sk-toggleable__label-arrow:before {content: \"▾\";}#sk-container-id-1 div.sk-estimator input.sk-toggleable__control:checked~label.sk-toggleable__label {background-color: #d4ebff;}#sk-container-id-1 div.sk-label input.sk-toggleable__control:checked~label.sk-toggleable__label {background-color: #d4ebff;}#sk-container-id-1 input.sk-hidden--visually {border: 0;clip: rect(1px 1px 1px 1px);clip: rect(1px, 1px, 1px, 1px);height: 1px;margin: -1px;overflow: hidden;padding: 0;position: absolute;width: 1px;}#sk-container-id-1 div.sk-estimator {font-family: monospace;background-color: #f0f8ff;border: 1px dotted black;border-radius: 0.25em;box-sizing: border-box;margin-bottom: 0.5em;}#sk-container-id-1 div.sk-estimator:hover {background-color: #d4ebff;}#sk-container-id-1 div.sk-parallel-item::after {content: \"\";width: 100%;border-bottom: 1px solid gray;flex-grow: 1;}#sk-container-id-1 div.sk-label:hover label.sk-toggleable__label {background-color: #d4ebff;}#sk-container-id-1 div.sk-serial::before {content: \"\";position: absolute;border-left: 1px solid gray;box-sizing: border-box;top: 0;bottom: 0;left: 50%;z-index: 0;}#sk-container-id-1 div.sk-serial {display: flex;flex-direction: column;align-items: center;background-color: white;padding-right: 0.2em;padding-left: 0.2em;position: relative;}#sk-container-id-1 div.sk-item {position: relative;z-index: 1;}#sk-container-id-1 div.sk-parallel {display: flex;align-items: stretch;justify-content: center;background-color: white;position: relative;}#sk-container-id-1 div.sk-item::before, #sk-container-id-1 div.sk-parallel-item::before {content: \"\";position: absolute;border-left: 1px solid gray;box-sizing: border-box;top: 0;bottom: 0;left: 50%;z-index: -1;}#sk-container-id-1 div.sk-parallel-item {display: flex;flex-direction: column;z-index: 1;position: relative;background-color: white;}#sk-container-id-1 div.sk-parallel-item:first-child::after {align-self: flex-end;width: 50%;}#sk-container-id-1 div.sk-parallel-item:last-child::after {align-self: flex-start;width: 50%;}#sk-container-id-1 div.sk-parallel-item:only-child::after {width: 0;}#sk-container-id-1 div.sk-dashed-wrapped {border: 1px dashed gray;margin: 0 0.4em 0.5em 0.4em;box-sizing: border-box;padding-bottom: 0.4em;background-color: white;}#sk-container-id-1 div.sk-label label {font-family: monospace;font-weight: bold;display: inline-block;line-height: 1.2em;}#sk-container-id-1 div.sk-label-container {text-align: center;}#sk-container-id-1 div.sk-container {/* jupyter's `normalize.less` sets `[hidden] { display: none; }` but bootstrap.min.css set `[hidden] { display: none !important; }` so we also need the `!important` here to be able to override the default hidden behavior on the sphinx rendered scikit-learn.org. See: https://github.com/scikit-learn/scikit-learn/issues/21755 */display: inline-block !important;position: relative;}#sk-container-id-1 div.sk-text-repr-fallback {display: none;}</style><div id=\"sk-container-id-1\" class=\"sk-top-container\"><div class=\"sk-text-repr-fallback\"><pre>LogisticRegression()</pre><b>In a Jupyter environment, please rerun this cell to show the HTML representation or trust the notebook. <br />On GitHub, the HTML representation is unable to render, please try loading this page with nbviewer.org.</b></div><div class=\"sk-container\" hidden><div class=\"sk-item\"><div class=\"sk-estimator sk-toggleable\"><input class=\"sk-toggleable__control sk-hidden--visually\" id=\"sk-estimator-id-1\" type=\"checkbox\" checked><label for=\"sk-estimator-id-1\" class=\"sk-toggleable__label sk-toggleable__label-arrow\">LogisticRegression</label><div class=\"sk-toggleable__content\"><pre>LogisticRegression()</pre></div></div></div></div></div>"
      ],
      "text/plain": [
       "LogisticRegression()"
      ]
     },
     "execution_count": 39,
     "metadata": {},
     "output_type": "execute_result"
    }
   ],
   "source": [
    "scaler = MinMaxScaler(feature_range=(0,1))\n",
    "rescaledXtrain = scaler.fit_transform(X_train)\n",
    "rescaledXtest = scaler.fit_transform(X_test)\n",
    "\n",
    "logreg = LogisticRegression()\n",
    "logreg.fit(rescaledXtrain, y_train)"
   ]
  },
  {
   "cell_type": "code",
   "execution_count": 40,
   "metadata": {},
   "outputs": [
    {
     "name": "stdout",
     "output_type": "stream",
     "text": [
      "[[62 12]\n",
      " [ 8 55]]\n",
      "              precision    recall  f1-score   support\n",
      "\n",
      "           0       0.89      0.84      0.86        74\n",
      "           1       0.82      0.87      0.85        63\n",
      "\n",
      "    accuracy                           0.85       137\n",
      "   macro avg       0.85      0.86      0.85       137\n",
      "weighted avg       0.86      0.85      0.85       137\n",
      "\n"
     ]
    }
   ],
   "source": [
    "y_pred = logreg.predict(rescaledXtest)\n",
    "print(confusion_matrix(y_test, y_pred))\n",
    "print(classification_report(y_test, y_pred))\n"
   ]
  },
  {
   "cell_type": "markdown",
   "metadata": {},
   "source": [
    "W przypadku zastosowania regresji logistycznej precyzja wyniosła $0,85$, co jest jeszcze lepszym wynikiem niż w przypadku zastosowanej wcześniej metody KNN."
   ]
  },
  {
   "cell_type": "markdown",
   "metadata": {},
   "source": [
    "# Klasyfikator naiwny Bayesa"
   ]
  },
  {
   "cell_type": "markdown",
   "metadata": {},
   "source": [
    "Na początku należy sprawdzić korelacje pomiędzy zmiennymi objaśniającymi. Zmienne te nie powinny być od siebie zależne, aby móc skorzystać z klasyfikatora naiwnego Bayesa"
   ]
  },
  {
   "cell_type": "code",
   "execution_count": 68,
   "metadata": {},
   "outputs": [
    {
     "data": {
      "text/html": [
       "<div>\n",
       "<style scoped>\n",
       "    .dataframe tbody tr th:only-of-type {\n",
       "        vertical-align: middle;\n",
       "    }\n",
       "\n",
       "    .dataframe tbody tr th {\n",
       "        vertical-align: top;\n",
       "    }\n",
       "\n",
       "    .dataframe thead th {\n",
       "        text-align: right;\n",
       "    }\n",
       "</style>\n",
       "<table border=\"1\" class=\"dataframe\">\n",
       "  <thead>\n",
       "    <tr style=\"text-align: right;\">\n",
       "      <th></th>\n",
       "      <th>Age</th>\n",
       "      <th>Debt</th>\n",
       "      <th>Married</th>\n",
       "      <th>BankCustomer</th>\n",
       "      <th>YearsEmployed</th>\n",
       "      <th>PriorDefault</th>\n",
       "      <th>Employed</th>\n",
       "      <th>CreditScore</th>\n",
       "      <th>Income</th>\n",
       "      <th>Approved</th>\n",
       "    </tr>\n",
       "  </thead>\n",
       "  <tbody>\n",
       "    <tr>\n",
       "      <th>Age</th>\n",
       "      <td>1.000000</td>\n",
       "      <td>0.201435</td>\n",
       "      <td>0.104743</td>\n",
       "      <td>0.097253</td>\n",
       "      <td>0.391294</td>\n",
       "      <td>0.203122</td>\n",
       "      <td>0.084912</td>\n",
       "      <td>0.186707</td>\n",
       "      <td>0.017827</td>\n",
       "      <td>0.162800</td>\n",
       "    </tr>\n",
       "    <tr>\n",
       "      <th>Debt</th>\n",
       "      <td>0.201435</td>\n",
       "      <td>1.000000</td>\n",
       "      <td>0.071984</td>\n",
       "      <td>0.081172</td>\n",
       "      <td>0.298728</td>\n",
       "      <td>0.242751</td>\n",
       "      <td>0.170472</td>\n",
       "      <td>0.267551</td>\n",
       "      <td>0.133530</td>\n",
       "      <td>0.204420</td>\n",
       "    </tr>\n",
       "    <tr>\n",
       "      <th>Married</th>\n",
       "      <td>0.104743</td>\n",
       "      <td>0.071984</td>\n",
       "      <td>1.000000</td>\n",
       "      <td>0.991989</td>\n",
       "      <td>0.067322</td>\n",
       "      <td>0.141505</td>\n",
       "      <td>0.173791</td>\n",
       "      <td>0.112490</td>\n",
       "      <td>-0.012321</td>\n",
       "      <td>0.177369</td>\n",
       "    </tr>\n",
       "    <tr>\n",
       "      <th>BankCustomer</th>\n",
       "      <td>0.097253</td>\n",
       "      <td>0.081172</td>\n",
       "      <td>0.991989</td>\n",
       "      <td>1.000000</td>\n",
       "      <td>0.073318</td>\n",
       "      <td>0.134930</td>\n",
       "      <td>0.168596</td>\n",
       "      <td>0.109585</td>\n",
       "      <td>0.053706</td>\n",
       "      <td>0.185796</td>\n",
       "    </tr>\n",
       "    <tr>\n",
       "      <th>YearsEmployed</th>\n",
       "      <td>0.391294</td>\n",
       "      <td>0.298728</td>\n",
       "      <td>0.067322</td>\n",
       "      <td>0.073318</td>\n",
       "      <td>1.000000</td>\n",
       "      <td>0.343347</td>\n",
       "      <td>0.223352</td>\n",
       "      <td>0.322254</td>\n",
       "      <td>0.041777</td>\n",
       "      <td>0.319698</td>\n",
       "    </tr>\n",
       "    <tr>\n",
       "      <th>PriorDefault</th>\n",
       "      <td>0.203122</td>\n",
       "      <td>0.242751</td>\n",
       "      <td>0.141505</td>\n",
       "      <td>0.134930</td>\n",
       "      <td>0.343347</td>\n",
       "      <td>1.000000</td>\n",
       "      <td>0.432118</td>\n",
       "      <td>0.379029</td>\n",
       "      <td>0.084165</td>\n",
       "      <td>0.719196</td>\n",
       "    </tr>\n",
       "    <tr>\n",
       "      <th>Employed</th>\n",
       "      <td>0.084912</td>\n",
       "      <td>0.170472</td>\n",
       "      <td>0.173791</td>\n",
       "      <td>0.168596</td>\n",
       "      <td>0.223352</td>\n",
       "      <td>0.432118</td>\n",
       "      <td>1.000000</td>\n",
       "      <td>0.570118</td>\n",
       "      <td>0.087328</td>\n",
       "      <td>0.458746</td>\n",
       "    </tr>\n",
       "    <tr>\n",
       "      <th>CreditScore</th>\n",
       "      <td>0.186707</td>\n",
       "      <td>0.267551</td>\n",
       "      <td>0.112490</td>\n",
       "      <td>0.109585</td>\n",
       "      <td>0.322254</td>\n",
       "      <td>0.379029</td>\n",
       "      <td>0.570118</td>\n",
       "      <td>1.000000</td>\n",
       "      <td>0.069898</td>\n",
       "      <td>0.406026</td>\n",
       "    </tr>\n",
       "    <tr>\n",
       "      <th>Income</th>\n",
       "      <td>0.017827</td>\n",
       "      <td>0.133530</td>\n",
       "      <td>-0.012321</td>\n",
       "      <td>0.053706</td>\n",
       "      <td>0.041777</td>\n",
       "      <td>0.084165</td>\n",
       "      <td>0.087328</td>\n",
       "      <td>0.069898</td>\n",
       "      <td>1.000000</td>\n",
       "      <td>0.170904</td>\n",
       "    </tr>\n",
       "    <tr>\n",
       "      <th>Approved</th>\n",
       "      <td>0.162800</td>\n",
       "      <td>0.204420</td>\n",
       "      <td>0.177369</td>\n",
       "      <td>0.185796</td>\n",
       "      <td>0.319698</td>\n",
       "      <td>0.719196</td>\n",
       "      <td>0.458746</td>\n",
       "      <td>0.406026</td>\n",
       "      <td>0.170904</td>\n",
       "      <td>1.000000</td>\n",
       "    </tr>\n",
       "  </tbody>\n",
       "</table>\n",
       "</div>"
      ],
      "text/plain": [
       "                    Age      Debt   Married  BankCustomer  YearsEmployed  \\\n",
       "Age            1.000000  0.201435  0.104743      0.097253       0.391294   \n",
       "Debt           0.201435  1.000000  0.071984      0.081172       0.298728   \n",
       "Married        0.104743  0.071984  1.000000      0.991989       0.067322   \n",
       "BankCustomer   0.097253  0.081172  0.991989      1.000000       0.073318   \n",
       "YearsEmployed  0.391294  0.298728  0.067322      0.073318       1.000000   \n",
       "PriorDefault   0.203122  0.242751  0.141505      0.134930       0.343347   \n",
       "Employed       0.084912  0.170472  0.173791      0.168596       0.223352   \n",
       "CreditScore    0.186707  0.267551  0.112490      0.109585       0.322254   \n",
       "Income         0.017827  0.133530 -0.012321      0.053706       0.041777   \n",
       "Approved       0.162800  0.204420  0.177369      0.185796       0.319698   \n",
       "\n",
       "               PriorDefault  Employed  CreditScore    Income  Approved  \n",
       "Age                0.203122  0.084912     0.186707  0.017827  0.162800  \n",
       "Debt               0.242751  0.170472     0.267551  0.133530  0.204420  \n",
       "Married            0.141505  0.173791     0.112490 -0.012321  0.177369  \n",
       "BankCustomer       0.134930  0.168596     0.109585  0.053706  0.185796  \n",
       "YearsEmployed      0.343347  0.223352     0.322254  0.041777  0.319698  \n",
       "PriorDefault       1.000000  0.432118     0.379029  0.084165  0.719196  \n",
       "Employed           0.432118  1.000000     0.570118  0.087328  0.458746  \n",
       "CreditScore        0.379029  0.570118     1.000000  0.069898  0.406026  \n",
       "Income             0.084165  0.087328     0.069898  1.000000  0.170904  \n",
       "Approved           0.719196  0.458746     0.406026  0.170904  1.000000  "
      ]
     },
     "execution_count": 68,
     "metadata": {},
     "output_type": "execute_result"
    }
   ],
   "source": [
    "corr_bayes = df4.corr()\n",
    "corr_bayes"
   ]
  },
  {
   "cell_type": "markdown",
   "metadata": {},
   "source": [
    "Można zaobserwować wysoką korelację między zmiennymi `Married` i `BankCustomer`, więc należy usunąć jedną z tych zmiennych, w tym przypadku będzie to `BankCustomer`"
   ]
  },
  {
   "cell_type": "code",
   "execution_count": 42,
   "metadata": {},
   "outputs": [
    {
     "data": {
      "text/html": [
       "<div>\n",
       "<style scoped>\n",
       "    .dataframe tbody tr th:only-of-type {\n",
       "        vertical-align: middle;\n",
       "    }\n",
       "\n",
       "    .dataframe tbody tr th {\n",
       "        vertical-align: top;\n",
       "    }\n",
       "\n",
       "    .dataframe thead th {\n",
       "        text-align: right;\n",
       "    }\n",
       "</style>\n",
       "<table border=\"1\" class=\"dataframe\">\n",
       "  <thead>\n",
       "    <tr style=\"text-align: right;\">\n",
       "      <th></th>\n",
       "      <th>Age</th>\n",
       "      <th>Debt</th>\n",
       "      <th>Married</th>\n",
       "      <th>Industry</th>\n",
       "      <th>Ethnicity</th>\n",
       "      <th>YearsEmployed</th>\n",
       "      <th>PriorDefault</th>\n",
       "      <th>Employed</th>\n",
       "      <th>CreditScore</th>\n",
       "      <th>Income</th>\n",
       "      <th>Approved</th>\n",
       "    </tr>\n",
       "  </thead>\n",
       "  <tbody>\n",
       "    <tr>\n",
       "      <th>0</th>\n",
       "      <td>30.83</td>\n",
       "      <td>0.000</td>\n",
       "      <td>1</td>\n",
       "      <td>Industrials</td>\n",
       "      <td>White</td>\n",
       "      <td>1.25</td>\n",
       "      <td>1</td>\n",
       "      <td>1</td>\n",
       "      <td>1</td>\n",
       "      <td>0</td>\n",
       "      <td>1</td>\n",
       "    </tr>\n",
       "    <tr>\n",
       "      <th>1</th>\n",
       "      <td>58.67</td>\n",
       "      <td>4.460</td>\n",
       "      <td>1</td>\n",
       "      <td>Materials</td>\n",
       "      <td>Black</td>\n",
       "      <td>3.04</td>\n",
       "      <td>1</td>\n",
       "      <td>1</td>\n",
       "      <td>6</td>\n",
       "      <td>560</td>\n",
       "      <td>1</td>\n",
       "    </tr>\n",
       "    <tr>\n",
       "      <th>2</th>\n",
       "      <td>24.50</td>\n",
       "      <td>0.500</td>\n",
       "      <td>1</td>\n",
       "      <td>Materials</td>\n",
       "      <td>Black</td>\n",
       "      <td>1.50</td>\n",
       "      <td>1</td>\n",
       "      <td>0</td>\n",
       "      <td>0</td>\n",
       "      <td>824</td>\n",
       "      <td>1</td>\n",
       "    </tr>\n",
       "    <tr>\n",
       "      <th>3</th>\n",
       "      <td>27.83</td>\n",
       "      <td>1.540</td>\n",
       "      <td>1</td>\n",
       "      <td>Industrials</td>\n",
       "      <td>White</td>\n",
       "      <td>3.75</td>\n",
       "      <td>1</td>\n",
       "      <td>1</td>\n",
       "      <td>5</td>\n",
       "      <td>3</td>\n",
       "      <td>1</td>\n",
       "    </tr>\n",
       "    <tr>\n",
       "      <th>4</th>\n",
       "      <td>20.17</td>\n",
       "      <td>5.625</td>\n",
       "      <td>1</td>\n",
       "      <td>Industrials</td>\n",
       "      <td>White</td>\n",
       "      <td>1.71</td>\n",
       "      <td>1</td>\n",
       "      <td>0</td>\n",
       "      <td>0</td>\n",
       "      <td>0</td>\n",
       "      <td>1</td>\n",
       "    </tr>\n",
       "  </tbody>\n",
       "</table>\n",
       "</div>"
      ],
      "text/plain": [
       "     Age   Debt  Married     Industry Ethnicity  YearsEmployed  PriorDefault  \\\n",
       "0  30.83  0.000        1  Industrials     White           1.25             1   \n",
       "1  58.67  4.460        1    Materials     Black           3.04             1   \n",
       "2  24.50  0.500        1    Materials     Black           1.50             1   \n",
       "3  27.83  1.540        1  Industrials     White           3.75             1   \n",
       "4  20.17  5.625        1  Industrials     White           1.71             1   \n",
       "\n",
       "   Employed  CreditScore  Income  Approved  \n",
       "0         1            1       0         1  \n",
       "1         1            6     560         1  \n",
       "2         0            0     824         1  \n",
       "3         1            5       3         1  \n",
       "4         0            0       0         1  "
      ]
     },
     "execution_count": 42,
     "metadata": {},
     "output_type": "execute_result"
    }
   ],
   "source": [
    "df5 = df4.drop(columns=['BankCustomer'])\n",
    "df5.head()"
   ]
  },
  {
   "cell_type": "markdown",
   "metadata": {},
   "source": [
    "Następnie należy sprawdzić rozkłady poszczególnych zmiennych."
   ]
  },
  {
   "cell_type": "code",
   "execution_count": 43,
   "metadata": {},
   "outputs": [
    {
     "data": {
      "text/plain": [
       "<AxesSubplot: xlabel='CreditScore', ylabel='Count'>"
      ]
     },
     "execution_count": 43,
     "metadata": {},
     "output_type": "execute_result"
    },
    {
     "data": {
      "image/png": "[encoded data removed]",
      "text/plain": [
       "<Figure size 1800x600 with 4 Axes>"
      ]
     },
     "metadata": {},
     "output_type": "display_data"
    }
   ],
   "source": [
    "fig, axes = plt.subplots(1, 4, figsize=(18,6), sharey=True)\n",
    "sns.histplot(df5, ax=axes[0], x='Age', kde=True, color='r')\n",
    "sns.histplot(df5, ax=axes[1], x='Debt', kde=True, color='b')\n",
    "sns.histplot(df5, ax=axes[2], x='YearsEmployed', kde=True, color='g')\n",
    "sns.histplot(df5, ax=axes[3], x='CreditScore', kde=True, color='orange')"
   ]
  },
  {
   "cell_type": "code",
   "execution_count": 44,
   "metadata": {},
   "outputs": [
    {
     "data": {
      "text/plain": [
       "<seaborn.axisgrid.FacetGrid at 0x1b060dbc790>"
      ]
     },
     "execution_count": 44,
     "metadata": {},
     "output_type": "execute_result"
    },
    {
     "data": {
      "image/png": "[encoded data removed]",
      "text/plain": [
       "<Figure size 500x500 with 1 Axes>"
      ]
     },
     "metadata": {},
     "output_type": "display_data"
    }
   ],
   "source": [
    "sns.displot(df5, x='Income', kind=\"kde\", color='y')"
   ]
  },
  {
   "cell_type": "markdown",
   "metadata": {},
   "source": [
    "Jak widzimy zmienne te nie mają rozkładu normalnego, w związku z tym musimy przeprowadzić ich dekretyzację , wiek dzielimy przy wartościach 30,50, dług, zdolność kredytowa oraz okres zatrudnienia przy wartościach 5,10  a przychód przy wartościach 35000,70000 $. Doboru wartości dokonaliśmy dzięki ocenie kształtu wykresów gęstości oraz realnym znaczeniu tych wartości."
   ]
  },
  {
   "cell_type": "code",
   "execution_count": 45,
   "metadata": {},
   "outputs": [],
   "source": [
    "df5['Age'] = pd.cut(df5.Age, bins = [-999999,30,50,np.Inf], labels = ['low', 'medium', 'high'])\n",
    "df5['Debt'] = pd.cut(df5.Debt, bins = [-999999,5,10,np.Inf], labels = ['low', 'medium', 'high'])\n",
    "df5['YearsEmployed'] = pd.cut(df5.YearsEmployed, bins = [-999999,5,10,np.Inf], labels = ['low', 'medium', 'high'])\n",
    "df5['CreditScore'] = pd.cut(df5.CreditScore, bins = [-999999,5,10,np.Inf], labels = ['low', 'medium', 'high'])\n",
    "df5['Income'] = pd.cut(df5.Income, bins = [-999999,35000,70000,np.Inf], labels = ['low', 'medium', 'high'])\n",
    "\n"
   ]
  },
  {
   "cell_type": "code",
   "execution_count": 46,
   "metadata": {},
   "outputs": [
    {
     "data": {
      "text/html": [
       "<div>\n",
       "<style scoped>\n",
       "    .dataframe tbody tr th:only-of-type {\n",
       "        vertical-align: middle;\n",
       "    }\n",
       "\n",
       "    .dataframe tbody tr th {\n",
       "        vertical-align: top;\n",
       "    }\n",
       "\n",
       "    .dataframe thead th {\n",
       "        text-align: right;\n",
       "    }\n",
       "</style>\n",
       "<table border=\"1\" class=\"dataframe\">\n",
       "  <thead>\n",
       "    <tr style=\"text-align: right;\">\n",
       "      <th></th>\n",
       "      <th>Age</th>\n",
       "      <th>Debt</th>\n",
       "      <th>Married</th>\n",
       "      <th>Industry</th>\n",
       "      <th>Ethnicity</th>\n",
       "      <th>YearsEmployed</th>\n",
       "      <th>PriorDefault</th>\n",
       "      <th>Employed</th>\n",
       "      <th>CreditScore</th>\n",
       "      <th>Income</th>\n",
       "      <th>Approved</th>\n",
       "    </tr>\n",
       "  </thead>\n",
       "  <tbody>\n",
       "    <tr>\n",
       "      <th>0</th>\n",
       "      <td>medium</td>\n",
       "      <td>low</td>\n",
       "      <td>1</td>\n",
       "      <td>Industrials</td>\n",
       "      <td>White</td>\n",
       "      <td>low</td>\n",
       "      <td>1</td>\n",
       "      <td>1</td>\n",
       "      <td>low</td>\n",
       "      <td>low</td>\n",
       "      <td>1</td>\n",
       "    </tr>\n",
       "    <tr>\n",
       "      <th>1</th>\n",
       "      <td>high</td>\n",
       "      <td>low</td>\n",
       "      <td>1</td>\n",
       "      <td>Materials</td>\n",
       "      <td>Black</td>\n",
       "      <td>low</td>\n",
       "      <td>1</td>\n",
       "      <td>1</td>\n",
       "      <td>medium</td>\n",
       "      <td>low</td>\n",
       "      <td>1</td>\n",
       "    </tr>\n",
       "    <tr>\n",
       "      <th>2</th>\n",
       "      <td>low</td>\n",
       "      <td>low</td>\n",
       "      <td>1</td>\n",
       "      <td>Materials</td>\n",
       "      <td>Black</td>\n",
       "      <td>low</td>\n",
       "      <td>1</td>\n",
       "      <td>0</td>\n",
       "      <td>low</td>\n",
       "      <td>low</td>\n",
       "      <td>1</td>\n",
       "    </tr>\n",
       "    <tr>\n",
       "      <th>3</th>\n",
       "      <td>low</td>\n",
       "      <td>low</td>\n",
       "      <td>1</td>\n",
       "      <td>Industrials</td>\n",
       "      <td>White</td>\n",
       "      <td>low</td>\n",
       "      <td>1</td>\n",
       "      <td>1</td>\n",
       "      <td>low</td>\n",
       "      <td>low</td>\n",
       "      <td>1</td>\n",
       "    </tr>\n",
       "    <tr>\n",
       "      <th>4</th>\n",
       "      <td>low</td>\n",
       "      <td>medium</td>\n",
       "      <td>1</td>\n",
       "      <td>Industrials</td>\n",
       "      <td>White</td>\n",
       "      <td>low</td>\n",
       "      <td>1</td>\n",
       "      <td>0</td>\n",
       "      <td>low</td>\n",
       "      <td>low</td>\n",
       "      <td>1</td>\n",
       "    </tr>\n",
       "  </tbody>\n",
       "</table>\n",
       "</div>"
      ],
      "text/plain": [
       "      Age    Debt  Married     Industry Ethnicity YearsEmployed  PriorDefault  \\\n",
       "0  medium     low        1  Industrials     White           low             1   \n",
       "1    high     low        1    Materials     Black           low             1   \n",
       "2     low     low        1    Materials     Black           low             1   \n",
       "3     low     low        1  Industrials     White           low             1   \n",
       "4     low  medium        1  Industrials     White           low             1   \n",
       "\n",
       "   Employed CreditScore Income  Approved  \n",
       "0         1         low    low         1  \n",
       "1         1      medium    low         1  \n",
       "2         0         low    low         1  \n",
       "3         1         low    low         1  \n",
       "4         0         low    low         1  "
      ]
     },
     "execution_count": 46,
     "metadata": {},
     "output_type": "execute_result"
    }
   ],
   "source": [
    "df5.head()\n"
   ]
  },
  {
   "cell_type": "markdown",
   "metadata": {},
   "source": [
    "Aby móc przekazać nasze dane do funkcji \n",
    "\n",
    "*   Element listy\n",
    "*   Element listy\n",
    "\n",
    "klasyfikatora naiwnego Bayesa musimy przepuścic kolumny z danymi kategorycznymi przez One-Hot Encoding"
   ]
  },
  {
   "cell_type": "code",
   "execution_count": 47,
   "metadata": {},
   "outputs": [
    {
     "data": {
      "text/html": [
       "<div>\n",
       "<style scoped>\n",
       "    .dataframe tbody tr th:only-of-type {\n",
       "        vertical-align: middle;\n",
       "    }\n",
       "\n",
       "    .dataframe tbody tr th {\n",
       "        vertical-align: top;\n",
       "    }\n",
       "\n",
       "    .dataframe thead th {\n",
       "        text-align: right;\n",
       "    }\n",
       "</style>\n",
       "<table border=\"1\" class=\"dataframe\">\n",
       "  <thead>\n",
       "    <tr style=\"text-align: right;\">\n",
       "      <th></th>\n",
       "      <th>Age_low</th>\n",
       "      <th>Age_medium</th>\n",
       "      <th>Age_high</th>\n",
       "      <th>Debt_low</th>\n",
       "      <th>Debt_medium</th>\n",
       "      <th>Debt_high</th>\n",
       "      <th>Industry_CommunicationServices</th>\n",
       "      <th>Industry_ConsumerDiscretionary</th>\n",
       "      <th>Industry_ConsumerStaples</th>\n",
       "      <th>Industry_Education</th>\n",
       "      <th>...</th>\n",
       "      <th>Ethnicity_White</th>\n",
       "      <th>YearsEmployed_low</th>\n",
       "      <th>YearsEmployed_medium</th>\n",
       "      <th>YearsEmployed_high</th>\n",
       "      <th>CreditScore_low</th>\n",
       "      <th>CreditScore_medium</th>\n",
       "      <th>CreditScore_high</th>\n",
       "      <th>Income_low</th>\n",
       "      <th>Income_medium</th>\n",
       "      <th>Income_high</th>\n",
       "    </tr>\n",
       "  </thead>\n",
       "  <tbody>\n",
       "    <tr>\n",
       "      <th>0</th>\n",
       "      <td>0</td>\n",
       "      <td>1</td>\n",
       "      <td>0</td>\n",
       "      <td>1</td>\n",
       "      <td>0</td>\n",
       "      <td>0</td>\n",
       "      <td>0</td>\n",
       "      <td>0</td>\n",
       "      <td>0</td>\n",
       "      <td>0</td>\n",
       "      <td>...</td>\n",
       "      <td>1</td>\n",
       "      <td>1</td>\n",
       "      <td>0</td>\n",
       "      <td>0</td>\n",
       "      <td>1</td>\n",
       "      <td>0</td>\n",
       "      <td>0</td>\n",
       "      <td>1</td>\n",
       "      <td>0</td>\n",
       "      <td>0</td>\n",
       "    </tr>\n",
       "    <tr>\n",
       "      <th>1</th>\n",
       "      <td>0</td>\n",
       "      <td>0</td>\n",
       "      <td>1</td>\n",
       "      <td>1</td>\n",
       "      <td>0</td>\n",
       "      <td>0</td>\n",
       "      <td>0</td>\n",
       "      <td>0</td>\n",
       "      <td>0</td>\n",
       "      <td>0</td>\n",
       "      <td>...</td>\n",
       "      <td>0</td>\n",
       "      <td>1</td>\n",
       "      <td>0</td>\n",
       "      <td>0</td>\n",
       "      <td>0</td>\n",
       "      <td>1</td>\n",
       "      <td>0</td>\n",
       "      <td>1</td>\n",
       "      <td>0</td>\n",
       "      <td>0</td>\n",
       "    </tr>\n",
       "    <tr>\n",
       "      <th>2</th>\n",
       "      <td>1</td>\n",
       "      <td>0</td>\n",
       "      <td>0</td>\n",
       "      <td>1</td>\n",
       "      <td>0</td>\n",
       "      <td>0</td>\n",
       "      <td>0</td>\n",
       "      <td>0</td>\n",
       "      <td>0</td>\n",
       "      <td>0</td>\n",
       "      <td>...</td>\n",
       "      <td>0</td>\n",
       "      <td>1</td>\n",
       "      <td>0</td>\n",
       "      <td>0</td>\n",
       "      <td>1</td>\n",
       "      <td>0</td>\n",
       "      <td>0</td>\n",
       "      <td>1</td>\n",
       "      <td>0</td>\n",
       "      <td>0</td>\n",
       "    </tr>\n",
       "    <tr>\n",
       "      <th>3</th>\n",
       "      <td>1</td>\n",
       "      <td>0</td>\n",
       "      <td>0</td>\n",
       "      <td>1</td>\n",
       "      <td>0</td>\n",
       "      <td>0</td>\n",
       "      <td>0</td>\n",
       "      <td>0</td>\n",
       "      <td>0</td>\n",
       "      <td>0</td>\n",
       "      <td>...</td>\n",
       "      <td>1</td>\n",
       "      <td>1</td>\n",
       "      <td>0</td>\n",
       "      <td>0</td>\n",
       "      <td>1</td>\n",
       "      <td>0</td>\n",
       "      <td>0</td>\n",
       "      <td>1</td>\n",
       "      <td>0</td>\n",
       "      <td>0</td>\n",
       "    </tr>\n",
       "    <tr>\n",
       "      <th>4</th>\n",
       "      <td>1</td>\n",
       "      <td>0</td>\n",
       "      <td>0</td>\n",
       "      <td>0</td>\n",
       "      <td>1</td>\n",
       "      <td>0</td>\n",
       "      <td>0</td>\n",
       "      <td>0</td>\n",
       "      <td>0</td>\n",
       "      <td>0</td>\n",
       "      <td>...</td>\n",
       "      <td>1</td>\n",
       "      <td>1</td>\n",
       "      <td>0</td>\n",
       "      <td>0</td>\n",
       "      <td>1</td>\n",
       "      <td>0</td>\n",
       "      <td>0</td>\n",
       "      <td>1</td>\n",
       "      <td>0</td>\n",
       "      <td>0</td>\n",
       "    </tr>\n",
       "  </tbody>\n",
       "</table>\n",
       "<p>5 rows × 31 columns</p>\n",
       "</div>"
      ],
      "text/plain": [
       "   Age_low  Age_medium  Age_high  Debt_low  Debt_medium  Debt_high  \\\n",
       "0        0           1         0         1            0          0   \n",
       "1        0           0         1         1            0          0   \n",
       "2        1           0         0         1            0          0   \n",
       "3        1           0         0         1            0          0   \n",
       "4        1           0         0         0            1          0   \n",
       "\n",
       "   Industry_CommunicationServices  Industry_ConsumerDiscretionary  \\\n",
       "0                               0                               0   \n",
       "1                               0                               0   \n",
       "2                               0                               0   \n",
       "3                               0                               0   \n",
       "4                               0                               0   \n",
       "\n",
       "   Industry_ConsumerStaples  Industry_Education  ...  Ethnicity_White  \\\n",
       "0                         0                   0  ...                1   \n",
       "1                         0                   0  ...                0   \n",
       "2                         0                   0  ...                0   \n",
       "3                         0                   0  ...                1   \n",
       "4                         0                   0  ...                1   \n",
       "\n",
       "   YearsEmployed_low  YearsEmployed_medium  YearsEmployed_high  \\\n",
       "0                  1                     0                   0   \n",
       "1                  1                     0                   0   \n",
       "2                  1                     0                   0   \n",
       "3                  1                     0                   0   \n",
       "4                  1                     0                   0   \n",
       "\n",
       "   CreditScore_low  CreditScore_medium  CreditScore_high  Income_low  \\\n",
       "0                1                   0                 0           1   \n",
       "1                0                   1                 0           1   \n",
       "2                1                   0                 0           1   \n",
       "3                1                   0                 0           1   \n",
       "4                1                   0                 0           1   \n",
       "\n",
       "   Income_medium  Income_high  \n",
       "0              0            0  \n",
       "1              0            0  \n",
       "2              0            0  \n",
       "3              0            0  \n",
       "4              0            0  \n",
       "\n",
       "[5 rows x 31 columns]"
      ]
     },
     "execution_count": 47,
     "metadata": {},
     "output_type": "execute_result"
    }
   ],
   "source": [
    "from sklearn.naive_bayes import GaussianNB\n",
    "from sklearn.naive_bayes import BernoulliNB\n",
    "df5_enc = df5.drop(columns=[\"Married\",\"PriorDefault\",\"Employed\",\"Approved\"])\n",
    "df5_dummies = pd.get_dummies(df5_enc, columns=[\"Age\",\"Debt\",\"Industry\",\"Ethnicity\",\"YearsEmployed\",\"CreditScore\",\"Income\"])\n",
    "df5_dummies.head()"
   ]
  },
  {
   "cell_type": "code",
   "execution_count": 48,
   "metadata": {},
   "outputs": [],
   "source": [
    "df6=df5.drop(columns=[\"Age\",\"Debt\",\"Industry\",\"Ethnicity\",\"YearsEmployed\",\"CreditScore\",\"Income\"])\n",
    "df6_merged = df6.join(df5_dummies)"
   ]
  },
  {
   "cell_type": "markdown",
   "metadata": {},
   "source": [
    "Po zamianie wszystkich zmiennych na zmienne liczbowe jesteśmy w stanie podstawić je do naszej funkcji, przechodzimy do podzielenia df na zbiór uczący i testowy, a następnie wykonujemy metodę klasyfikatora naiwnego bayesa."
   ]
  },
  {
   "cell_type": "code",
   "execution_count": 49,
   "metadata": {},
   "outputs": [],
   "source": [
    "Y1 = df6_merged[\"Approved\"]\n",
    "X1 = df6_merged.drop(columns=[\"Approved\"])\n",
    "X_train, X_test, Y_train, Y_test = train_test_split(X1, Y1, test_size=0.20)"
   ]
  },
  {
   "cell_type": "code",
   "execution_count": 50,
   "metadata": {},
   "outputs": [
    {
     "name": "stdout",
     "output_type": "stream",
     "text": [
      "[1 0 0 1 0 0 1 1 0 0 0 0 0 0 0 0 0 0 0 1 1 0 0 1 0 0 0 0 0 0 0 0 0 1 0 0 0\n",
      " 0 0 1 1 1 0 0 0 0 0 0 0 0 0 0 0 0 0 0 0 0 0 0 1 1 0 1 0 0 1 0 0 0 0 0 0 1\n",
      " 0 0 0 0 0 0 1 0 1 0 0 1 0 1 0 0 0 0 0 0 0 0 0 0 0 0 1 1 0 0 0 0 1 1 1 0 1\n",
      " 0 1 0 0 0 0 0 0 0 1 0 0 0 1 0 1 1 0 1 0 0 1 0 1 0 0 1]\n"
     ]
    }
   ],
   "source": [
    "clf = GaussianNB()\n",
    "clf.fit(X_train, Y_train)\n",
    "GaussianNB()\n",
    "test_pred = clf.predict(X_test)\n",
    "print(test_pred)"
   ]
  },
  {
   "cell_type": "markdown",
   "metadata": {},
   "source": [
    "Powyżej mamy przedstawiony finalny wynik predykcji modelu\n",
    "Teraz przechodzimy do analizy wyników: "
   ]
  },
  {
   "cell_type": "code",
   "execution_count": 51,
   "metadata": {},
   "outputs": [
    {
     "name": "stdout",
     "output_type": "stream",
     "text": [
      "[[72  3]\n",
      " [31 32]]\n",
      "              precision    recall  f1-score   support\n",
      "\n",
      "           0       0.70      0.96      0.81        75\n",
      "           1       0.91      0.51      0.65        63\n",
      "\n",
      "    accuracy                           0.75       138\n",
      "   macro avg       0.81      0.73      0.73       138\n",
      "weighted avg       0.80      0.75      0.74       138\n",
      "\n"
     ]
    }
   ],
   "source": [
    "print(confusion_matrix(Y_test, test_pred))\n",
    "print(classification_report(Y_test, test_pred))"
   ]
  },
  {
   "cell_type": "markdown",
   "metadata": {},
   "source": [
    "Jak widzimy mamy wartości o liczności : true positive 72 , false positive 3 , false negative 31, true negative 32. Model zdecydowanie lepiej radzi sobie z określaniem wartości pozytywnych, może to wynikać ze zwiększenia poczatkowej ilości zmiennych objaśniających z 11 na 36, było to niestety konieczne aby móc zastosować funkcję z klasyfikatorem naiwnym bayesa. \n",
    "\n",
    "Jak widzimy czułość naszego szacunku wynosi jedynie 0.70 , precyzja natomiast wynosi natomiast aż 0.96, jest to dobry wynik jednak z uwagi na czułość widzimy, że model jest lekko zakłamany.\n",
    "W związku z tym użyjemy innej funkcji, która dostosowuje parametr threshold - próg klasyfikacji."
   ]
  },
  {
   "cell_type": "code",
   "execution_count": 52,
   "metadata": {},
   "outputs": [
    {
     "name": "stdout",
     "output_type": "stream",
     "text": [
      "[[66  9]\n",
      " [13 50]]\n",
      "              precision    recall  f1-score   support\n",
      "\n",
      "           0       0.84      0.88      0.86        75\n",
      "           1       0.85      0.79      0.82        63\n",
      "\n",
      "    accuracy                           0.84       138\n",
      "   macro avg       0.84      0.84      0.84       138\n",
      "weighted avg       0.84      0.84      0.84       138\n",
      "\n"
     ]
    }
   ],
   "source": [
    "clf = BernoulliNB()\n",
    "clf.fit(X_train, Y_train)\n",
    "BernoulliNB()\n",
    "test_pred = clf.predict(X_test)\n",
    "print(confusion_matrix(Y_test, test_pred))\n",
    "print(classification_report(Y_test, test_pred))"
   ]
  },
  {
   "cell_type": "markdown",
   "metadata": {},
   "source": [
    "Od razu widzimy poprawę czułości modelu do 0.84"
   ]
  },
  {
   "cell_type": "markdown",
   "metadata": {},
   "source": [
    "# Liniowa analiza dyskryminacyjna"
   ]
  },
  {
   "cell_type": "markdown",
   "metadata": {},
   "source": [
    "LDA to metoda geometryczna, posiada ona swoją funkcję w bibliotece skit learn, dane wykorzystane w tej metodzie mogą mieć zarówno charakter kategoryczny jak i ilościowy. Decyduję się na użycie danych z dataframe df4.\n",
    "\n"
   ]
  },
  {
   "cell_type": "code",
   "execution_count": 53,
   "metadata": {},
   "outputs": [],
   "source": [
    "from sklearn.discriminant_analysis import LinearDiscriminantAnalysis as LDA"
   ]
  },
  {
   "cell_type": "code",
   "execution_count": 69,
   "metadata": {},
   "outputs": [
    {
     "data": {
      "text/html": [
       "<div>\n",
       "<style scoped>\n",
       "    .dataframe tbody tr th:only-of-type {\n",
       "        vertical-align: middle;\n",
       "    }\n",
       "\n",
       "    .dataframe tbody tr th {\n",
       "        vertical-align: top;\n",
       "    }\n",
       "\n",
       "    .dataframe thead th {\n",
       "        text-align: right;\n",
       "    }\n",
       "</style>\n",
       "<table border=\"1\" class=\"dataframe\">\n",
       "  <thead>\n",
       "    <tr style=\"text-align: right;\">\n",
       "      <th></th>\n",
       "      <th>Age</th>\n",
       "      <th>Debt</th>\n",
       "      <th>Married</th>\n",
       "      <th>BankCustomer</th>\n",
       "      <th>YearsEmployed</th>\n",
       "      <th>PriorDefault</th>\n",
       "      <th>Employed</th>\n",
       "      <th>CreditScore</th>\n",
       "      <th>Income</th>\n",
       "      <th>Approved</th>\n",
       "    </tr>\n",
       "  </thead>\n",
       "  <tbody>\n",
       "    <tr>\n",
       "      <th>Age</th>\n",
       "      <td>1.000000</td>\n",
       "      <td>0.201435</td>\n",
       "      <td>0.104743</td>\n",
       "      <td>0.097253</td>\n",
       "      <td>0.391294</td>\n",
       "      <td>0.203122</td>\n",
       "      <td>0.084912</td>\n",
       "      <td>0.186707</td>\n",
       "      <td>0.017827</td>\n",
       "      <td>0.162800</td>\n",
       "    </tr>\n",
       "    <tr>\n",
       "      <th>Debt</th>\n",
       "      <td>0.201435</td>\n",
       "      <td>1.000000</td>\n",
       "      <td>0.071984</td>\n",
       "      <td>0.081172</td>\n",
       "      <td>0.298728</td>\n",
       "      <td>0.242751</td>\n",
       "      <td>0.170472</td>\n",
       "      <td>0.267551</td>\n",
       "      <td>0.133530</td>\n",
       "      <td>0.204420</td>\n",
       "    </tr>\n",
       "    <tr>\n",
       "      <th>Married</th>\n",
       "      <td>0.104743</td>\n",
       "      <td>0.071984</td>\n",
       "      <td>1.000000</td>\n",
       "      <td>0.991989</td>\n",
       "      <td>0.067322</td>\n",
       "      <td>0.141505</td>\n",
       "      <td>0.173791</td>\n",
       "      <td>0.112490</td>\n",
       "      <td>-0.012321</td>\n",
       "      <td>0.177369</td>\n",
       "    </tr>\n",
       "    <tr>\n",
       "      <th>BankCustomer</th>\n",
       "      <td>0.097253</td>\n",
       "      <td>0.081172</td>\n",
       "      <td>0.991989</td>\n",
       "      <td>1.000000</td>\n",
       "      <td>0.073318</td>\n",
       "      <td>0.134930</td>\n",
       "      <td>0.168596</td>\n",
       "      <td>0.109585</td>\n",
       "      <td>0.053706</td>\n",
       "      <td>0.185796</td>\n",
       "    </tr>\n",
       "    <tr>\n",
       "      <th>YearsEmployed</th>\n",
       "      <td>0.391294</td>\n",
       "      <td>0.298728</td>\n",
       "      <td>0.067322</td>\n",
       "      <td>0.073318</td>\n",
       "      <td>1.000000</td>\n",
       "      <td>0.343347</td>\n",
       "      <td>0.223352</td>\n",
       "      <td>0.322254</td>\n",
       "      <td>0.041777</td>\n",
       "      <td>0.319698</td>\n",
       "    </tr>\n",
       "    <tr>\n",
       "      <th>PriorDefault</th>\n",
       "      <td>0.203122</td>\n",
       "      <td>0.242751</td>\n",
       "      <td>0.141505</td>\n",
       "      <td>0.134930</td>\n",
       "      <td>0.343347</td>\n",
       "      <td>1.000000</td>\n",
       "      <td>0.432118</td>\n",
       "      <td>0.379029</td>\n",
       "      <td>0.084165</td>\n",
       "      <td>0.719196</td>\n",
       "    </tr>\n",
       "    <tr>\n",
       "      <th>Employed</th>\n",
       "      <td>0.084912</td>\n",
       "      <td>0.170472</td>\n",
       "      <td>0.173791</td>\n",
       "      <td>0.168596</td>\n",
       "      <td>0.223352</td>\n",
       "      <td>0.432118</td>\n",
       "      <td>1.000000</td>\n",
       "      <td>0.570118</td>\n",
       "      <td>0.087328</td>\n",
       "      <td>0.458746</td>\n",
       "    </tr>\n",
       "    <tr>\n",
       "      <th>CreditScore</th>\n",
       "      <td>0.186707</td>\n",
       "      <td>0.267551</td>\n",
       "      <td>0.112490</td>\n",
       "      <td>0.109585</td>\n",
       "      <td>0.322254</td>\n",
       "      <td>0.379029</td>\n",
       "      <td>0.570118</td>\n",
       "      <td>1.000000</td>\n",
       "      <td>0.069898</td>\n",
       "      <td>0.406026</td>\n",
       "    </tr>\n",
       "    <tr>\n",
       "      <th>Income</th>\n",
       "      <td>0.017827</td>\n",
       "      <td>0.133530</td>\n",
       "      <td>-0.012321</td>\n",
       "      <td>0.053706</td>\n",
       "      <td>0.041777</td>\n",
       "      <td>0.084165</td>\n",
       "      <td>0.087328</td>\n",
       "      <td>0.069898</td>\n",
       "      <td>1.000000</td>\n",
       "      <td>0.170904</td>\n",
       "    </tr>\n",
       "    <tr>\n",
       "      <th>Approved</th>\n",
       "      <td>0.162800</td>\n",
       "      <td>0.204420</td>\n",
       "      <td>0.177369</td>\n",
       "      <td>0.185796</td>\n",
       "      <td>0.319698</td>\n",
       "      <td>0.719196</td>\n",
       "      <td>0.458746</td>\n",
       "      <td>0.406026</td>\n",
       "      <td>0.170904</td>\n",
       "      <td>1.000000</td>\n",
       "    </tr>\n",
       "  </tbody>\n",
       "</table>\n",
       "</div>"
      ],
      "text/plain": [
       "                    Age      Debt   Married  BankCustomer  YearsEmployed  \\\n",
       "Age            1.000000  0.201435  0.104743      0.097253       0.391294   \n",
       "Debt           0.201435  1.000000  0.071984      0.081172       0.298728   \n",
       "Married        0.104743  0.071984  1.000000      0.991989       0.067322   \n",
       "BankCustomer   0.097253  0.081172  0.991989      1.000000       0.073318   \n",
       "YearsEmployed  0.391294  0.298728  0.067322      0.073318       1.000000   \n",
       "PriorDefault   0.203122  0.242751  0.141505      0.134930       0.343347   \n",
       "Employed       0.084912  0.170472  0.173791      0.168596       0.223352   \n",
       "CreditScore    0.186707  0.267551  0.112490      0.109585       0.322254   \n",
       "Income         0.017827  0.133530 -0.012321      0.053706       0.041777   \n",
       "Approved       0.162800  0.204420  0.177369      0.185796       0.319698   \n",
       "\n",
       "               PriorDefault  Employed  CreditScore    Income  Approved  \n",
       "Age                0.203122  0.084912     0.186707  0.017827  0.162800  \n",
       "Debt               0.242751  0.170472     0.267551  0.133530  0.204420  \n",
       "Married            0.141505  0.173791     0.112490 -0.012321  0.177369  \n",
       "BankCustomer       0.134930  0.168596     0.109585  0.053706  0.185796  \n",
       "YearsEmployed      0.343347  0.223352     0.322254  0.041777  0.319698  \n",
       "PriorDefault       1.000000  0.432118     0.379029  0.084165  0.719196  \n",
       "Employed           0.432118  1.000000     0.570118  0.087328  0.458746  \n",
       "CreditScore        0.379029  0.570118     1.000000  0.069898  0.406026  \n",
       "Income             0.084165  0.087328     0.069898  1.000000  0.170904  \n",
       "Approved           0.719196  0.458746     0.406026  0.170904  1.000000  "
      ]
     },
     "execution_count": 69,
     "metadata": {},
     "output_type": "execute_result"
    }
   ],
   "source": [
    "corr_LDA = df4.corr()\n",
    "corr_LDA"
   ]
  },
  {
   "cell_type": "markdown",
   "metadata": {},
   "source": [
    "Można zaobserwować wysoką korelację między zmiennymi `Married` i `BankCustomer`, więc należy usunąć jedną z tych zmiennych, w tym przypadku będzie to `BankCustomer`"
   ]
  },
  {
   "cell_type": "code",
   "execution_count": 55,
   "metadata": {},
   "outputs": [
    {
     "data": {
      "text/html": [
       "<div>\n",
       "<style scoped>\n",
       "    .dataframe tbody tr th:only-of-type {\n",
       "        vertical-align: middle;\n",
       "    }\n",
       "\n",
       "    .dataframe tbody tr th {\n",
       "        vertical-align: top;\n",
       "    }\n",
       "\n",
       "    .dataframe thead th {\n",
       "        text-align: right;\n",
       "    }\n",
       "</style>\n",
       "<table border=\"1\" class=\"dataframe\">\n",
       "  <thead>\n",
       "    <tr style=\"text-align: right;\">\n",
       "      <th></th>\n",
       "      <th>Age</th>\n",
       "      <th>Debt</th>\n",
       "      <th>Married</th>\n",
       "      <th>Industry</th>\n",
       "      <th>Ethnicity</th>\n",
       "      <th>YearsEmployed</th>\n",
       "      <th>PriorDefault</th>\n",
       "      <th>Employed</th>\n",
       "      <th>CreditScore</th>\n",
       "      <th>Income</th>\n",
       "      <th>Approved</th>\n",
       "    </tr>\n",
       "  </thead>\n",
       "  <tbody>\n",
       "    <tr>\n",
       "      <th>0</th>\n",
       "      <td>30.83</td>\n",
       "      <td>0.000</td>\n",
       "      <td>1</td>\n",
       "      <td>Industrials</td>\n",
       "      <td>White</td>\n",
       "      <td>1.25</td>\n",
       "      <td>1</td>\n",
       "      <td>1</td>\n",
       "      <td>1</td>\n",
       "      <td>0</td>\n",
       "      <td>1</td>\n",
       "    </tr>\n",
       "    <tr>\n",
       "      <th>1</th>\n",
       "      <td>58.67</td>\n",
       "      <td>4.460</td>\n",
       "      <td>1</td>\n",
       "      <td>Materials</td>\n",
       "      <td>Black</td>\n",
       "      <td>3.04</td>\n",
       "      <td>1</td>\n",
       "      <td>1</td>\n",
       "      <td>6</td>\n",
       "      <td>560</td>\n",
       "      <td>1</td>\n",
       "    </tr>\n",
       "    <tr>\n",
       "      <th>2</th>\n",
       "      <td>24.50</td>\n",
       "      <td>0.500</td>\n",
       "      <td>1</td>\n",
       "      <td>Materials</td>\n",
       "      <td>Black</td>\n",
       "      <td>1.50</td>\n",
       "      <td>1</td>\n",
       "      <td>0</td>\n",
       "      <td>0</td>\n",
       "      <td>824</td>\n",
       "      <td>1</td>\n",
       "    </tr>\n",
       "    <tr>\n",
       "      <th>3</th>\n",
       "      <td>27.83</td>\n",
       "      <td>1.540</td>\n",
       "      <td>1</td>\n",
       "      <td>Industrials</td>\n",
       "      <td>White</td>\n",
       "      <td>3.75</td>\n",
       "      <td>1</td>\n",
       "      <td>1</td>\n",
       "      <td>5</td>\n",
       "      <td>3</td>\n",
       "      <td>1</td>\n",
       "    </tr>\n",
       "    <tr>\n",
       "      <th>4</th>\n",
       "      <td>20.17</td>\n",
       "      <td>5.625</td>\n",
       "      <td>1</td>\n",
       "      <td>Industrials</td>\n",
       "      <td>White</td>\n",
       "      <td>1.71</td>\n",
       "      <td>1</td>\n",
       "      <td>0</td>\n",
       "      <td>0</td>\n",
       "      <td>0</td>\n",
       "      <td>1</td>\n",
       "    </tr>\n",
       "  </tbody>\n",
       "</table>\n",
       "</div>"
      ],
      "text/plain": [
       "     Age   Debt  Married     Industry Ethnicity  YearsEmployed  PriorDefault  \\\n",
       "0  30.83  0.000        1  Industrials     White           1.25             1   \n",
       "1  58.67  4.460        1    Materials     Black           3.04             1   \n",
       "2  24.50  0.500        1    Materials     Black           1.50             1   \n",
       "3  27.83  1.540        1  Industrials     White           3.75             1   \n",
       "4  20.17  5.625        1  Industrials     White           1.71             1   \n",
       "\n",
       "   Employed  CreditScore  Income  Approved  \n",
       "0         1            1       0         1  \n",
       "1         1            6     560         1  \n",
       "2         0            0     824         1  \n",
       "3         1            5       3         1  \n",
       "4         0            0       0         1  "
      ]
     },
     "execution_count": 55,
     "metadata": {},
     "output_type": "execute_result"
    }
   ],
   "source": [
    "df5 = df4.drop(columns=['BankCustomer'])\n",
    "df5.head()"
   ]
  },
  {
   "cell_type": "markdown",
   "metadata": {},
   "source": [
    "Dokonujemy takich samych operacji na df jak w przypadku bayesa (mimo, że z matematycznego punktu widzenia możemy posiadać zmienne kategoryczne to funkcja w pythonie nie będzie w stanie ich przyjąć, z uwagi na to musimy je pogrupować i zastosowac one-hot encoding, tym samym zwiększając ilość kolumn), zanim jednak zastosujemy o-h encoding sprawdzimy zależności między zmiennymi które zostaną zmiennymi ilościowymi."
   ]
  },
  {
   "cell_type": "code",
   "execution_count": 56,
   "metadata": {},
   "outputs": [
    {
     "data": {
      "text/html": [
       "<div>\n",
       "<style scoped>\n",
       "    .dataframe tbody tr th:only-of-type {\n",
       "        vertical-align: middle;\n",
       "    }\n",
       "\n",
       "    .dataframe tbody tr th {\n",
       "        vertical-align: top;\n",
       "    }\n",
       "\n",
       "    .dataframe thead th {\n",
       "        text-align: right;\n",
       "    }\n",
       "</style>\n",
       "<table border=\"1\" class=\"dataframe\">\n",
       "  <thead>\n",
       "    <tr style=\"text-align: right;\">\n",
       "      <th></th>\n",
       "      <th>Age</th>\n",
       "      <th>Debt</th>\n",
       "      <th>Married</th>\n",
       "      <th>Industry</th>\n",
       "      <th>Ethnicity</th>\n",
       "      <th>YearsEmployed</th>\n",
       "      <th>PriorDefault</th>\n",
       "      <th>Employed</th>\n",
       "      <th>CreditScore</th>\n",
       "      <th>Income</th>\n",
       "      <th>Approved</th>\n",
       "    </tr>\n",
       "  </thead>\n",
       "  <tbody>\n",
       "    <tr>\n",
       "      <th>0</th>\n",
       "      <td>medium</td>\n",
       "      <td>low</td>\n",
       "      <td>1</td>\n",
       "      <td>Industrials</td>\n",
       "      <td>White</td>\n",
       "      <td>low</td>\n",
       "      <td>1</td>\n",
       "      <td>1</td>\n",
       "      <td>low</td>\n",
       "      <td>low</td>\n",
       "      <td>1</td>\n",
       "    </tr>\n",
       "    <tr>\n",
       "      <th>1</th>\n",
       "      <td>high</td>\n",
       "      <td>low</td>\n",
       "      <td>1</td>\n",
       "      <td>Materials</td>\n",
       "      <td>Black</td>\n",
       "      <td>low</td>\n",
       "      <td>1</td>\n",
       "      <td>1</td>\n",
       "      <td>medium</td>\n",
       "      <td>low</td>\n",
       "      <td>1</td>\n",
       "    </tr>\n",
       "    <tr>\n",
       "      <th>2</th>\n",
       "      <td>low</td>\n",
       "      <td>low</td>\n",
       "      <td>1</td>\n",
       "      <td>Materials</td>\n",
       "      <td>Black</td>\n",
       "      <td>low</td>\n",
       "      <td>1</td>\n",
       "      <td>0</td>\n",
       "      <td>low</td>\n",
       "      <td>low</td>\n",
       "      <td>1</td>\n",
       "    </tr>\n",
       "    <tr>\n",
       "      <th>3</th>\n",
       "      <td>low</td>\n",
       "      <td>low</td>\n",
       "      <td>1</td>\n",
       "      <td>Industrials</td>\n",
       "      <td>White</td>\n",
       "      <td>low</td>\n",
       "      <td>1</td>\n",
       "      <td>1</td>\n",
       "      <td>low</td>\n",
       "      <td>low</td>\n",
       "      <td>1</td>\n",
       "    </tr>\n",
       "    <tr>\n",
       "      <th>4</th>\n",
       "      <td>low</td>\n",
       "      <td>medium</td>\n",
       "      <td>1</td>\n",
       "      <td>Industrials</td>\n",
       "      <td>White</td>\n",
       "      <td>low</td>\n",
       "      <td>1</td>\n",
       "      <td>0</td>\n",
       "      <td>low</td>\n",
       "      <td>low</td>\n",
       "      <td>1</td>\n",
       "    </tr>\n",
       "  </tbody>\n",
       "</table>\n",
       "</div>"
      ],
      "text/plain": [
       "      Age    Debt  Married     Industry Ethnicity YearsEmployed  PriorDefault  \\\n",
       "0  medium     low        1  Industrials     White           low             1   \n",
       "1    high     low        1    Materials     Black           low             1   \n",
       "2     low     low        1    Materials     Black           low             1   \n",
       "3     low     low        1  Industrials     White           low             1   \n",
       "4     low  medium        1  Industrials     White           low             1   \n",
       "\n",
       "   Employed CreditScore Income  Approved  \n",
       "0         1         low    low         1  \n",
       "1         1      medium    low         1  \n",
       "2         0         low    low         1  \n",
       "3         1         low    low         1  \n",
       "4         0         low    low         1  "
      ]
     },
     "execution_count": 56,
     "metadata": {},
     "output_type": "execute_result"
    }
   ],
   "source": [
    "df5['Age'] = pd.cut(df5.Age, bins = [-999999,30,50,np.Inf], labels = ['low', 'medium', 'high'])\n",
    "df5['Debt'] = pd.cut(df5.Debt, bins = [-999999,5,10,np.Inf], labels = ['low', 'medium', 'high'])\n",
    "df5['YearsEmployed'] = pd.cut(df5.YearsEmployed, bins = [-999999,5,10,np.Inf], labels = ['low', 'medium', 'high'])\n",
    "df5['CreditScore'] = pd.cut(df5.CreditScore, bins = [-999999,5,10,np.Inf], labels = ['low', 'medium', 'high'])\n",
    "df5['Income'] = pd.cut(df5.Income, bins = [-999999,35000,70000,np.Inf], labels = ['low', 'medium', 'high'])\n",
    "df5.head()"
   ]
  },
  {
   "cell_type": "code",
   "execution_count": 70,
   "metadata": {},
   "outputs": [
    {
     "data": {
      "text/html": [
       "<div>\n",
       "<style scoped>\n",
       "    .dataframe tbody tr th:only-of-type {\n",
       "        vertical-align: middle;\n",
       "    }\n",
       "\n",
       "    .dataframe tbody tr th {\n",
       "        vertical-align: top;\n",
       "    }\n",
       "\n",
       "    .dataframe thead th {\n",
       "        text-align: right;\n",
       "    }\n",
       "</style>\n",
       "<table border=\"1\" class=\"dataframe\">\n",
       "  <thead>\n",
       "    <tr style=\"text-align: right;\">\n",
       "      <th></th>\n",
       "      <th>Married</th>\n",
       "      <th>PriorDefault</th>\n",
       "      <th>Employed</th>\n",
       "    </tr>\n",
       "  </thead>\n",
       "  <tbody>\n",
       "    <tr>\n",
       "      <th>Married</th>\n",
       "      <td>0.181997</td>\n",
       "      <td>0.030175</td>\n",
       "      <td>0.036711</td>\n",
       "    </tr>\n",
       "    <tr>\n",
       "      <th>PriorDefault</th>\n",
       "      <td>0.030175</td>\n",
       "      <td>0.249855</td>\n",
       "      <td>0.106949</td>\n",
       "    </tr>\n",
       "    <tr>\n",
       "      <th>Employed</th>\n",
       "      <td>0.036711</td>\n",
       "      <td>0.106949</td>\n",
       "      <td>0.245165</td>\n",
       "    </tr>\n",
       "  </tbody>\n",
       "</table>\n",
       "</div>"
      ],
      "text/plain": [
       "               Married  PriorDefault  Employed\n",
       "Married       0.181997      0.030175  0.036711\n",
       "PriorDefault  0.030175      0.249855  0.106949\n",
       "Employed      0.036711      0.106949  0.245165"
      ]
     },
     "execution_count": 70,
     "metadata": {},
     "output_type": "execute_result"
    }
   ],
   "source": [
    "df5_x = df5.drop(columns=['Approved'])\n",
    "df5_x.cov()"
   ]
  },
  {
   "cell_type": "markdown",
   "metadata": {},
   "source": [
    "Macierz kowariancji ma niskie wartości, oznacza to, że między zmiennymi istnieje znikoma korelacja liniowa"
   ]
  },
  {
   "cell_type": "markdown",
   "metadata": {},
   "source": [
    "Teraz sprawdzimy występowanie wartości odstających"
   ]
  },
  {
   "cell_type": "code",
   "execution_count": 58,
   "metadata": {},
   "outputs": [
    {
     "data": {
      "image/png": "[encoded data removed]",
      "text/plain": [
       "<Figure size 640x480 with 1 Axes>"
      ]
     },
     "metadata": {},
     "output_type": "display_data"
    }
   ],
   "source": [
    "boxplot = df5_x.boxplot(column=['Married', 'PriorDefault', 'Employed']) "
   ]
  },
  {
   "cell_type": "markdown",
   "metadata": {},
   "source": [
    "Wszystkie nasze dane są względnie równe, przyjmują wartości od 0 do 1, nie mamy tutaj problemu z tym zbiorem danych. Możemy przejść do enkodowania oraz obliczania funkcji LDA"
   ]
  },
  {
   "cell_type": "code",
   "execution_count": 59,
   "metadata": {},
   "outputs": [
    {
     "data": {
      "text/html": [
       "<div>\n",
       "<style scoped>\n",
       "    .dataframe tbody tr th:only-of-type {\n",
       "        vertical-align: middle;\n",
       "    }\n",
       "\n",
       "    .dataframe tbody tr th {\n",
       "        vertical-align: top;\n",
       "    }\n",
       "\n",
       "    .dataframe thead th {\n",
       "        text-align: right;\n",
       "    }\n",
       "</style>\n",
       "<table border=\"1\" class=\"dataframe\">\n",
       "  <thead>\n",
       "    <tr style=\"text-align: right;\">\n",
       "      <th></th>\n",
       "      <th>Age_low</th>\n",
       "      <th>Age_medium</th>\n",
       "      <th>Age_high</th>\n",
       "      <th>Debt_low</th>\n",
       "      <th>Debt_medium</th>\n",
       "      <th>Debt_high</th>\n",
       "      <th>Industry_CommunicationServices</th>\n",
       "      <th>Industry_ConsumerDiscretionary</th>\n",
       "      <th>Industry_ConsumerStaples</th>\n",
       "      <th>Industry_Education</th>\n",
       "      <th>...</th>\n",
       "      <th>Ethnicity_White</th>\n",
       "      <th>YearsEmployed_low</th>\n",
       "      <th>YearsEmployed_medium</th>\n",
       "      <th>YearsEmployed_high</th>\n",
       "      <th>CreditScore_low</th>\n",
       "      <th>CreditScore_medium</th>\n",
       "      <th>CreditScore_high</th>\n",
       "      <th>Income_low</th>\n",
       "      <th>Income_medium</th>\n",
       "      <th>Income_high</th>\n",
       "    </tr>\n",
       "  </thead>\n",
       "  <tbody>\n",
       "    <tr>\n",
       "      <th>0</th>\n",
       "      <td>0</td>\n",
       "      <td>1</td>\n",
       "      <td>0</td>\n",
       "      <td>1</td>\n",
       "      <td>0</td>\n",
       "      <td>0</td>\n",
       "      <td>0</td>\n",
       "      <td>0</td>\n",
       "      <td>0</td>\n",
       "      <td>0</td>\n",
       "      <td>...</td>\n",
       "      <td>1</td>\n",
       "      <td>1</td>\n",
       "      <td>0</td>\n",
       "      <td>0</td>\n",
       "      <td>1</td>\n",
       "      <td>0</td>\n",
       "      <td>0</td>\n",
       "      <td>1</td>\n",
       "      <td>0</td>\n",
       "      <td>0</td>\n",
       "    </tr>\n",
       "    <tr>\n",
       "      <th>1</th>\n",
       "      <td>0</td>\n",
       "      <td>0</td>\n",
       "      <td>1</td>\n",
       "      <td>1</td>\n",
       "      <td>0</td>\n",
       "      <td>0</td>\n",
       "      <td>0</td>\n",
       "      <td>0</td>\n",
       "      <td>0</td>\n",
       "      <td>0</td>\n",
       "      <td>...</td>\n",
       "      <td>0</td>\n",
       "      <td>1</td>\n",
       "      <td>0</td>\n",
       "      <td>0</td>\n",
       "      <td>0</td>\n",
       "      <td>1</td>\n",
       "      <td>0</td>\n",
       "      <td>1</td>\n",
       "      <td>0</td>\n",
       "      <td>0</td>\n",
       "    </tr>\n",
       "    <tr>\n",
       "      <th>2</th>\n",
       "      <td>1</td>\n",
       "      <td>0</td>\n",
       "      <td>0</td>\n",
       "      <td>1</td>\n",
       "      <td>0</td>\n",
       "      <td>0</td>\n",
       "      <td>0</td>\n",
       "      <td>0</td>\n",
       "      <td>0</td>\n",
       "      <td>0</td>\n",
       "      <td>...</td>\n",
       "      <td>0</td>\n",
       "      <td>1</td>\n",
       "      <td>0</td>\n",
       "      <td>0</td>\n",
       "      <td>1</td>\n",
       "      <td>0</td>\n",
       "      <td>0</td>\n",
       "      <td>1</td>\n",
       "      <td>0</td>\n",
       "      <td>0</td>\n",
       "    </tr>\n",
       "    <tr>\n",
       "      <th>3</th>\n",
       "      <td>1</td>\n",
       "      <td>0</td>\n",
       "      <td>0</td>\n",
       "      <td>1</td>\n",
       "      <td>0</td>\n",
       "      <td>0</td>\n",
       "      <td>0</td>\n",
       "      <td>0</td>\n",
       "      <td>0</td>\n",
       "      <td>0</td>\n",
       "      <td>...</td>\n",
       "      <td>1</td>\n",
       "      <td>1</td>\n",
       "      <td>0</td>\n",
       "      <td>0</td>\n",
       "      <td>1</td>\n",
       "      <td>0</td>\n",
       "      <td>0</td>\n",
       "      <td>1</td>\n",
       "      <td>0</td>\n",
       "      <td>0</td>\n",
       "    </tr>\n",
       "    <tr>\n",
       "      <th>4</th>\n",
       "      <td>1</td>\n",
       "      <td>0</td>\n",
       "      <td>0</td>\n",
       "      <td>0</td>\n",
       "      <td>1</td>\n",
       "      <td>0</td>\n",
       "      <td>0</td>\n",
       "      <td>0</td>\n",
       "      <td>0</td>\n",
       "      <td>0</td>\n",
       "      <td>...</td>\n",
       "      <td>1</td>\n",
       "      <td>1</td>\n",
       "      <td>0</td>\n",
       "      <td>0</td>\n",
       "      <td>1</td>\n",
       "      <td>0</td>\n",
       "      <td>0</td>\n",
       "      <td>1</td>\n",
       "      <td>0</td>\n",
       "      <td>0</td>\n",
       "    </tr>\n",
       "  </tbody>\n",
       "</table>\n",
       "<p>5 rows × 31 columns</p>\n",
       "</div>"
      ],
      "text/plain": [
       "   Age_low  Age_medium  Age_high  Debt_low  Debt_medium  Debt_high  \\\n",
       "0        0           1         0         1            0          0   \n",
       "1        0           0         1         1            0          0   \n",
       "2        1           0         0         1            0          0   \n",
       "3        1           0         0         1            0          0   \n",
       "4        1           0         0         0            1          0   \n",
       "\n",
       "   Industry_CommunicationServices  Industry_ConsumerDiscretionary  \\\n",
       "0                               0                               0   \n",
       "1                               0                               0   \n",
       "2                               0                               0   \n",
       "3                               0                               0   \n",
       "4                               0                               0   \n",
       "\n",
       "   Industry_ConsumerStaples  Industry_Education  ...  Ethnicity_White  \\\n",
       "0                         0                   0  ...                1   \n",
       "1                         0                   0  ...                0   \n",
       "2                         0                   0  ...                0   \n",
       "3                         0                   0  ...                1   \n",
       "4                         0                   0  ...                1   \n",
       "\n",
       "   YearsEmployed_low  YearsEmployed_medium  YearsEmployed_high  \\\n",
       "0                  1                     0                   0   \n",
       "1                  1                     0                   0   \n",
       "2                  1                     0                   0   \n",
       "3                  1                     0                   0   \n",
       "4                  1                     0                   0   \n",
       "\n",
       "   CreditScore_low  CreditScore_medium  CreditScore_high  Income_low  \\\n",
       "0                1                   0                 0           1   \n",
       "1                0                   1                 0           1   \n",
       "2                1                   0                 0           1   \n",
       "3                1                   0                 0           1   \n",
       "4                1                   0                 0           1   \n",
       "\n",
       "   Income_medium  Income_high  \n",
       "0              0            0  \n",
       "1              0            0  \n",
       "2              0            0  \n",
       "3              0            0  \n",
       "4              0            0  \n",
       "\n",
       "[5 rows x 31 columns]"
      ]
     },
     "execution_count": 59,
     "metadata": {},
     "output_type": "execute_result"
    }
   ],
   "source": [
    "df5_enc = df5.drop(columns=[\"Married\",\"PriorDefault\",\"Employed\",\"Approved\"])\n",
    "df5_dummies = pd.get_dummies(df5_enc, columns=[\"Age\",\"Debt\",\"Industry\",\"Ethnicity\",\"YearsEmployed\",\"CreditScore\",\"Income\"])\n",
    "df5_dummies.head()"
   ]
  },
  {
   "cell_type": "code",
   "execution_count": 60,
   "metadata": {},
   "outputs": [],
   "source": [
    "df6=df5.drop(columns=[\"Age\",\"Debt\",\"Industry\",\"Ethnicity\",\"YearsEmployed\",\"CreditScore\",\"Income\"])\n",
    "df6_merged = df6.join(df5_dummies)"
   ]
  },
  {
   "cell_type": "code",
   "execution_count": 61,
   "metadata": {},
   "outputs": [],
   "source": [
    "Y1 = df6_merged['Approved']\n",
    "X1 = df6_merged.drop(columns=['Approved'])\n",
    "X_train, X_test, Y_train, Y_test = train_test_split(X1, Y1, test_size=0.20)"
   ]
  },
  {
   "cell_type": "code",
   "execution_count": 62,
   "metadata": {},
   "outputs": [
    {
     "name": "stdout",
     "output_type": "stream",
     "text": [
      "[0 1 0 0 1 0 1 1 0 1 0 0 0 0 1 1 1 1 0 0 0 1 0 0 0 0 0 1 1 0 0 1 1 0 1 1 0\n",
      " 0 1 1 0 1 0 0 1 1 0 1 1 1 0 0 0 1 0 0 0 1 0 1 1 1 1 0 1 1 0 0 0 1 1 1 0 1\n",
      " 0 1 1 1 0 0 0 1 0 1 0 1 1 1 0 0 1 1 1 1 1 1 1 1 1 1 0 0 1 0 0 0 1 1 0 0 1\n",
      " 1 0 1 1 0 0 0 0 0 0 1 1 0 0 0 1 0 0 0 1 1 1 0 0 0 0 0]\n"
     ]
    }
   ],
   "source": [
    "clf = LDA()\n",
    "clf.fit(X_train,Y_train)\n",
    "LDA(n_components=None, priors=None, shrinkage=None, solver='svd',\n",
    "  store_covariance=False, tol=0.0001)\n",
    "test_pred = clf.predict(X_test)\n",
    "print(test_pred)"
   ]
  },
  {
   "cell_type": "markdown",
   "metadata": {},
   "source": [
    "Po dokonaniu klasyfikacji możemy przejść do wyświetlenia macierzy błędów oraz interpretacji wyników"
   ]
  },
  {
   "cell_type": "code",
   "execution_count": 63,
   "metadata": {},
   "outputs": [
    {
     "name": "stdout",
     "output_type": "stream",
     "text": [
      "[[63  8]\n",
      " [ 8 59]]\n",
      "              precision    recall  f1-score   support\n",
      "\n",
      "           0       0.89      0.89      0.89        71\n",
      "           1       0.88      0.88      0.88        67\n",
      "\n",
      "    accuracy                           0.88       138\n",
      "   macro avg       0.88      0.88      0.88       138\n",
      "weighted avg       0.88      0.88      0.88       138\n",
      "\n"
     ]
    }
   ],
   "source": [
    "print(confusion_matrix(Y_test,test_pred))\n",
    "print(classification_report(Y_test,test_pred))"
   ]
  },
  {
   "cell_type": "markdown",
   "metadata": {},
   "source": [
    "Jak widzimy wartości true positive mamy 63, false positive 15, false negative 8, true negative 59. Model bardzo dobrze radzi sobie z określaniem wartości negatywnych, a z wartościami pozytywnymi radzi sobie dość dobrze. Zarówno czułość jak i precyzja naszego modelu jest na poziomie 0.89, są to bardzo dobre wyniki."
   ]
  }
 ],
 "metadata": {
  "kernelspec": {
   "display_name": "Python 3.9.0 64-bit",
   "language": "python",
   "name": "python3"
  },
  "language_info": {
   "codemirror_mode": {
    "name": "ipython",
    "version": 3
   },
   "file_extension": ".py",
   "mimetype": "text/x-python",
   "name": "python",
   "nbconvert_exporter": "python",
   "pygments_lexer": "ipython3",
   "version": "3.9.0"
  },
  "orig_nbformat": 4,
  "vscode": {
   "interpreter": {
    "hash": "11938c6bc6919ae2720b4d5011047913343b08a43b18698fd82dedb0d4417594"
   }
  }
 },
 "nbformat": 4,
 "nbformat_minor": 2
}
